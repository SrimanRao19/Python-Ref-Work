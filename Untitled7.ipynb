{
 "cells": [
  {
   "cell_type": "code",
   "execution_count": null,
   "metadata": {
    "collapsed": true
   },
   "outputs": [],
   "source": [
    "import numpy as np\n",
    "import matplotlib.pyplot as plt \n",
    "from matplotlib import style \n",
    "\n",
    "style.use('ggplot')\n",
    "\n",
    "xaxis, x, y, z, a = np.loadtxt('8_data.csv', delimiter = ',', unpack = True)\n",
    "\n",
    "def graph():\n",
    "\tplt.plot(xaxis,x)\n",
    "\tplt.plot(xaxis,y)\n",
    "\tplt.plot(xaxis,z)\n",
    "\tplt.plot(xaxis,a)\n",
    "\n",
    "\n",
    "\tplt.title('Accelerometer Data Collected with SensorLog App on iPhone 6S')\n",
    "\tplt.ylabel('')\n",
    "\tplt.xlabel('7 Everyday Activites')\n",
    "\n",
    "\tplt.show()\n",
    "\n",
    "graph()"
   ]
  },
  {
   "cell_type": "code",
   "execution_count": null,
   "metadata": {
    "collapsed": true
   },
   "outputs": [],
   "source": []
  },
  {
   "cell_type": "code",
   "execution_count": null,
   "metadata": {
    "collapsed": true
   },
   "outputs": [],
   "source": []
  },
  {
   "cell_type": "code",
   "execution_count": null,
   "metadata": {
    "collapsed": true
   },
   "outputs": [],
   "source": []
  }
 ],
 "metadata": {
  "kernelspec": {
   "display_name": "Python 3",
   "language": "python",
   "name": "python3"
  }
 },
 "nbformat": 4,
 "nbformat_minor": 2
}
