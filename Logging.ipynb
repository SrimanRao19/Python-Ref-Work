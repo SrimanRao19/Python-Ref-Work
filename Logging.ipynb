{
 "cells": [
  {
   "cell_type": "code",
   "execution_count": 7,
   "metadata": {},
   "outputs": [
    {
     "name": "stderr",
     "output_type": "stream",
     "text": [
      "WARNING:root:Add :10+5=15\n"
     ]
    }
   ],
   "source": [
    "import logging\n",
    "loggong.basicConfig(level=logging.DEBUG)\n",
    "def add(x,y):\n",
    "    return x+y\n",
    "def subtract(x,y):\n",
    "    return x-y\n",
    "def multiply(x,y):\n",
    "    return x*y\n",
    "def divide(x,y):\n",
    "    return x/y\n",
    "num_1=10\n",
    "num_2=5\n",
    "add_result=add(num_1,num_2)\n",
    "logging.warning(\"Add :{}+{}={}\".format(num_1,num_2,add_result))\n",
    "sub_result=subtract(num_1,num_2)\n",
    "logging.debug(\"Sub :{}-{}={}\".format(num_1,num_2,sub_result))\n",
    "mul_result=multiply(num_1,num_2)\n",
    "logging.debug(\"Mul :{}*{}={}\".format(num_1,num_2,mul_result))\n",
    "div_result=divide(num_1,num_2)\n",
    "logging.debug(\"Div :{}/{}={}\".format(num_1,num_2,div_result))"
   ]
  },
  {
   "cell_type": "code",
   "execution_count": 14,
   "metadata": {},
   "outputs": [],
   "source": [
    "import logging\n",
    "logging.basicConfig(filename=\"test.log\",level=logging.DEBUG)\n",
    "def add(x,y):\n",
    "    return x+y\n",
    "def subtract(x,y):\n",
    "    return x-y\n",
    "def multiply(x,y):\n",
    "    return x*y\n",
    "def divide(x,y):\n",
    "    return x/y\n",
    "num_1=10\n",
    "num_2=5\n",
    "add_result=add(num_1,num_2)\n",
    "logging.debug(\"Add :{}+{}={}\".format(num_1,num_2,add_result))\n",
    "sub_result=subtract(num_1,num_2)\n",
    "logging.debug(\"Sub :{}-{}={}\".format(num_1,num_2,sub_result))\n",
    "mul_result=multiply(num_1,num_2)\n",
    "logging.debug(\"Mul :{}*{}={}\".format(num_1,num_2,mul_result))\n",
    "div_result=divide(num_1,num_2)\n",
    "logging.debug(\"Div :{}/{}={}\".format(num_1,num_2,div_result))"
   ]
  }
 ],
 "metadata": {
  "kernelspec": {
   "display_name": "Python 3",
   "language": "python",
   "name": "python3"
  },
  "language_info": {
   "codemirror_mode": {
    "name": "ipython",
    "version": 3
   },
   "file_extension": ".py",
   "mimetype": "text/x-python",
   "name": "python",
   "nbconvert_exporter": "python",
   "pygments_lexer": "ipython3",
   "version": "3.6.1"
  }
 },
 "nbformat": 4,
 "nbformat_minor": 2
}
