{
 "cells": [
  {
   "cell_type": "code",
   "execution_count": 8,
   "metadata": {},
   "outputs": [],
   "source": [
    "import logging\n",
    "logging.basicConfig(filename=\"employee.log\",level=logging.INFO)\n",
    "logger=logging.getLogger(__name__)\n",
    "class Employee:\n",
    "    def __init__(self,first,second,pay):\n",
    "        self.first=first\n",
    "        self.second=second\n",
    "        self.pay=pay\n",
    "        logger.info(\"Created Employee: {}-{}\".format(self.fullname,self.email))\n",
    "    @property\n",
    "    def email(self):\n",
    "        return \"{}.{}@email.com\".format(self.first,self.second)\n",
    "    @property\n",
    "    def fullname(self):\n",
    "        return \"{} {}\".format(self.first,self.second)\n",
    "emp_1=Employee(\"Ram\",\"Rao\",1232343)\n",
    "emp_2=Employee(\"Rahim\",\"Masood\",123456)\n",
    "   "
   ]
  },
  {
   "cell_type": "code",
   "execution_count": null,
   "metadata": {
    "collapsed": true
   },
   "outputs": [],
   "source": []
  }
 ],
 "metadata": {
  "kernelspec": {
   "display_name": "Python 3",
   "language": "python",
   "name": "python3"
  },
  "language_info": {
   "codemirror_mode": {
    "name": "ipython",
    "version": 3
   },
   "file_extension": ".py",
   "mimetype": "text/x-python",
   "name": "python",
   "nbconvert_exporter": "python",
   "pygments_lexer": "ipython3",
   "version": "3.6.1"
  }
 },
 "nbformat": 4,
 "nbformat_minor": 2
}
