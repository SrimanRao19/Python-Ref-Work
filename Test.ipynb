{
 "cells": [
  {
   "cell_type": "code",
   "execution_count": 5,
   "metadata": {},
   "outputs": [
    {
     "name": "stdout",
     "output_type": "stream",
     "text": [
      "The number of even numbers is  4\n"
     ]
    }
   ],
   "source": [
    "nums=[2,3,4,5,6,7,8]\n",
    "even=0\n",
    "for num in nums:\n",
    "    if num%2==0:\n",
    "        even+=1\n",
    "print(\"The number of even numbers is \",even)"
   ]
  },
  {
   "cell_type": "code",
   "execution_count": 19,
   "metadata": {},
   "outputs": [
    {
     "name": "stdout",
     "output_type": "stream",
     "text": [
      "0 5\n",
      "0 2\n",
      "0 5\n",
      "1 3\n",
      "0 5\n",
      "2 4\n",
      "0 5\n",
      "3 5\n",
      "0 5\n",
      "4 6\n",
      "1 3\n",
      "0 2\n",
      "1 3\n",
      "1 3\n",
      "1 3\n",
      "2 4\n",
      "1 3\n",
      "3 5\n",
      "1 3\n",
      "4 6\n",
      "2 2\n",
      "0 2\n",
      "2 2\n",
      "1 3\n",
      "2 2\n",
      "2 4\n",
      "2 2\n",
      "3 5\n",
      "2 2\n",
      "4 6\n",
      "3 4\n",
      "0 2\n",
      "3 4\n",
      "1 3\n",
      "3 4\n",
      "2 4\n",
      "3 4\n",
      "3 5\n",
      "3 4\n",
      "4 6\n",
      "4 3\n",
      "0 2\n",
      "4 3\n",
      "1 3\n",
      "4 3\n",
      "2 4\n",
      "4 3\n",
      "3 5\n",
      "4 3\n",
      "4 6\n"
     ]
    }
   ],
   "source": [
    "def Prime_Factor(num1,num2):\n",
    "    for counter, i in enumerate(num2):\n",
    "        for count, j in enumerate(num1):\n",
    "            #if i%2!=0 and i%j==0:\n",
    "             #   print (counter)\n",
    "              #  break\n",
    "            print(counter,i)\n",
    "            print(count,j)\n",
    "Prime_Factor([2,3,4,5,6],[5,3,2,4,3])"
   ]
  },
  {
   "cell_type": "code",
   "execution_count": 13,
   "metadata": {},
   "outputs": [
    {
     "name": "stdout",
     "output_type": "stream",
     "text": [
      "0\n",
      "2\n",
      "3\n",
      "4\n"
     ]
    }
   ],
   "source": [
    "def same_index(li1,li2):\n",
    "    for counter,i in enumerate(li1):\n",
    "        for count,j in enumerate(li2):\n",
    "            if (i==j):\n",
    "                print(counter)\n",
    "same_index([1,2,43,44,5],[1,3,43,44,5])"
   ]
  },
  {
   "cell_type": "code",
   "execution_count": 26,
   "metadata": {},
   "outputs": [
    {
     "name": "stdout",
     "output_type": "stream",
     "text": [
      "2\n"
     ]
    }
   ],
   "source": [
    "def same_index(data1,data2):\n",
    "       for index, (value1, value2) in enumerate(zip(data1, data2)):\n",
    "\n",
    "            if (value1==value2):\n",
    "                print(index)\n",
    "                break\n",
    "same_index([2,3,43,44,5],[1,4,43,44,5])\n",
    "\n",
    "\n",
    "\n"
   ]
  },
  {
   "cell_type": "code",
   "execution_count": 31,
   "metadata": {
    "collapsed": true
   },
   "outputs": [],
   "source": [
    "def prime_index(data1,data2):\n",
    "       for index, (value1, value2) in enumerate(zip(data1, data2)):\n",
    "\n",
    "            if (value1%value2)==0 and (value2%2)!=0:\n",
    "                print(index)\n",
    "                break\n",
    "same_index([2,6],[1,3])"
   ]
  },
  {
   "cell_type": "code",
   "execution_count": 1,
   "metadata": {},
   "outputs": [
    {
     "name": "stdout",
     "output_type": "stream",
     "text": [
      "1\n",
      "2\n",
      "3\n",
      "4\n"
     ]
    }
   ],
   "source": [
    "def func(*args):\n",
    "    for arg in args:\n",
    "        print (arg)\n",
    "result=func(1,2,3,4)"
   ]
  },
  {
   "cell_type": "code",
   "execution_count": null,
   "metadata": {
    "collapsed": true
   },
   "outputs": [],
   "source": []
  }
 ],
 "metadata": {
  "kernelspec": {
   "display_name": "Python 3",
   "language": "python",
   "name": "python3"
  },
  "language_info": {
   "codemirror_mode": {
    "name": "ipython",
    "version": 3
   },
   "file_extension": ".py",
   "mimetype": "text/x-python",
   "name": "python",
   "nbconvert_exporter": "python",
   "pygments_lexer": "ipython3",
   "version": "3.6.1"
  }
 },
 "nbformat": 4,
 "nbformat_minor": 2
}
