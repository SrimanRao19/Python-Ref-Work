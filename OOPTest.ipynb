{
 "cells": [
  {
   "cell_type": "code",
   "execution_count": 6,
   "metadata": {},
   "outputs": [
    {
     "data": {
      "text/plain": [
       "100"
      ]
     },
     "execution_count": 6,
     "metadata": {},
     "output_type": "execute_result"
    }
   ],
   "source": [
    "class BankAccount:\n",
    "    def __init__(self):\n",
    "        self.balance=0\n",
    "    def withdraw(self,amt):\n",
    "        self.balance-=amt\n",
    "        return self.balance\n",
    "    def deposit(self,amt):\n",
    "        self.balance+=amt\n",
    "        return self.balance\n",
    "emp_1=BankAccount()\n",
    "emp_2=BankAccount()\n",
    "emp_1.deposit(100)\n",
    "        \n",
    "        \n",
    "        "
   ]
  },
  {
   "cell_type": "code",
   "execution_count": 21,
   "metadata": {},
   "outputs": [
    {
     "ename": "AttributeError",
     "evalue": "'BankAccount' object has no attribute 'balance'",
     "output_type": "error",
     "traceback": [
      "\u001b[1;31m---------------------------------------------------------------------------\u001b[0m",
      "\u001b[1;31mAttributeError\u001b[0m                            Traceback (most recent call last)",
      "\u001b[1;32m<ipython-input-21-0216e58f7d0a>\u001b[0m in \u001b[0;36m<module>\u001b[1;34m()\u001b[0m\n\u001b[0;32m      9\u001b[0m \u001b[0ma\u001b[0m \u001b[1;33m=\u001b[0m \u001b[0mBankAccount\u001b[0m\u001b[1;33m(\u001b[0m\u001b[1;33m)\u001b[0m\u001b[1;33m\u001b[0m\u001b[0m\n\u001b[0;32m     10\u001b[0m \u001b[0mb\u001b[0m \u001b[1;33m=\u001b[0m \u001b[0mBankAccount\u001b[0m\u001b[1;33m(\u001b[0m\u001b[1;33m)\u001b[0m\u001b[1;33m\u001b[0m\u001b[0m\n\u001b[1;32m---> 11\u001b[1;33m \u001b[0ma\u001b[0m\u001b[1;33m.\u001b[0m\u001b[0mdeposit\u001b[0m\u001b[1;33m(\u001b[0m\u001b[1;36m100\u001b[0m\u001b[1;33m)\u001b[0m\u001b[1;33m\u001b[0m\u001b[0m\n\u001b[0m",
      "\u001b[1;32m<ipython-input-21-0216e58f7d0a>\u001b[0m in \u001b[0;36mdeposit\u001b[1;34m(self, amount)\u001b[0m\n\u001b[0;32m      5\u001b[0m \u001b[1;33m\u001b[0m\u001b[0m\n\u001b[0;32m      6\u001b[0m     \u001b[1;32mdef\u001b[0m \u001b[0mdeposit\u001b[0m\u001b[1;33m(\u001b[0m\u001b[0mself\u001b[0m\u001b[1;33m,\u001b[0m \u001b[0mamount\u001b[0m\u001b[1;33m)\u001b[0m\u001b[1;33m:\u001b[0m\u001b[1;33m\u001b[0m\u001b[0m\n\u001b[1;32m----> 7\u001b[1;33m         \u001b[0mself\u001b[0m\u001b[1;33m.\u001b[0m\u001b[0mbalance\u001b[0m \u001b[1;33m+=\u001b[0m \u001b[0mamount\u001b[0m\u001b[1;33m\u001b[0m\u001b[0m\n\u001b[0m\u001b[0;32m      8\u001b[0m         \u001b[1;32mreturn\u001b[0m \u001b[0mself\u001b[0m\u001b[1;33m.\u001b[0m\u001b[0mbalance\u001b[0m\u001b[1;33m\u001b[0m\u001b[0m\n\u001b[0;32m      9\u001b[0m \u001b[0ma\u001b[0m \u001b[1;33m=\u001b[0m \u001b[0mBankAccount\u001b[0m\u001b[1;33m(\u001b[0m\u001b[1;33m)\u001b[0m\u001b[1;33m\u001b[0m\u001b[0m\n",
      "\u001b[1;31mAttributeError\u001b[0m: 'BankAccount' object has no attribute 'balance'"
     ]
    }
   ],
   "source": [
    "class BankAccount:\n",
    "    def withdraw(self, amount):\n",
    "        self.balance -= amount\n",
    "        return self.balance\n",
    "\n",
    "    def deposit(self, amount):\n",
    "        self.balance += amount\n",
    "        return self.balance\n",
    "a = BankAccount()\n",
    "b = BankAccount()\n",
    "a.deposit(100)"
   ]
  },
  {
   "cell_type": "code",
   "execution_count": 18,
   "metadata": {
    "collapsed": true
   },
   "outputs": [],
   "source": [
    "class Mason:\n",
    "    Tstudents=0\n",
    "    def __init__(self,name,course,domain):\n",
    "        self.name=name\n",
    "        self.course=course\n",
    "        self.domain=domain\n",
    "        Mason.Tstudents+=1\n",
    "    def studentMail(self):\n",
    "        return \"{} @ {}\".format(self.name,self.domain)\n",
    "    def TotStu(self):\n",
    "        return \"The total students= \",Mason.Tstudents\n",
    "student1=Mason(\"Sriman\",\"CS\",\"gmu.edu\")\n",
    "    "
   ]
  },
  {
   "cell_type": "code",
   "execution_count": 19,
   "metadata": {},
   "outputs": [
    {
     "data": {
      "text/plain": [
       "'Sriman @ gmu.edu'"
      ]
     },
     "execution_count": 19,
     "metadata": {},
     "output_type": "execute_result"
    }
   ],
   "source": [
    "student1.studentMail()"
   ]
  },
  {
   "cell_type": "code",
   "execution_count": 54,
   "metadata": {},
   "outputs": [
    {
     "data": {
      "text/plain": [
       "'Sriman-1--1'"
      ]
     },
     "execution_count": 54,
     "metadata": {},
     "output_type": "execute_result"
    }
   ],
   "source": [
    "class GMU:\n",
    "    def __init__(self,name,num):\n",
    "        self.name=name\n",
    "        self.num=num\n",
    "        self.bankid=\"{} {}\".format(num,name)\n",
    "        self.email=name\n",
    "\n",
    "    def abc(self):\n",
    "        return \"{}-{}\".format(self.email,self.num)\n",
    "    @property\n",
    "    def xyz(self):\n",
    "        self.test=\"{}--{}\".format(self.abc(),self.num)\n",
    "        return self.test\n",
    "emp_1=GMU(\"Sriman\",1)\n",
    "#print(emp_1.bankid)\n",
    "#print(emp_1.email)\n",
    "emp_1.abc()\n",
    "#GMU.abc(emp_1)\n",
    "emp_1.xyz\n",
    "\n",
    "        "
   ]
  },
  {
   "cell_type": "code",
   "execution_count": null,
   "metadata": {
    "collapsed": true
   },
   "outputs": [],
   "source": [
    "def __init__(self,name,num):\n",
    "        self.name=name\n",
    "        self.num=num\n",
    "        self.bankid=\"{} {}\".format(num,name)\n",
    "        self.email=name\n",
    "\n",
    "def abc(self):\n",
    "        return self.email\n",
    "#emp_1=GMU(\"Sriman\",1)\n",
    "#print(emp_1.bankid)\n",
    "#print(emp_1.email)\n",
    "#emp_1.abc()\n",
    "#GMU.abc(emp_1)\n",
    "abc()\n"
   ]
  }
 ],
 "metadata": {
  "kernelspec": {
   "display_name": "Python 3",
   "language": "python",
   "name": "python3"
  },
  "language_info": {
   "codemirror_mode": {
    "name": "ipython",
    "version": 3
   },
   "file_extension": ".py",
   "mimetype": "text/x-python",
   "name": "python",
   "nbconvert_exporter": "python",
   "pygments_lexer": "ipython3",
   "version": "3.6.1"
  }
 },
 "nbformat": 4,
 "nbformat_minor": 2
}
