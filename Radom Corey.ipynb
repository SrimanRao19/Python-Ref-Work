{
 "cells": [
  {
   "cell_type": "code",
   "execution_count": 1,
   "metadata": {},
   "outputs": [
    {
     "name": "stdout",
     "output_type": "stream",
     "text": [
      "0.5723539198129128\n"
     ]
    }
   ],
   "source": [
    "import random\n",
    "value=random.random()\n",
    "print(value)"
   ]
  },
  {
   "cell_type": "code",
   "execution_count": 5,
   "metadata": {},
   "outputs": [
    {
     "name": "stdout",
     "output_type": "stream",
     "text": [
      "4.315870753399947\n"
     ]
    }
   ],
   "source": [
    "import random\n",
    "value=random.uniform(1,10)\n",
    "print(value)"
   ]
  },
  {
   "cell_type": "code",
   "execution_count": 6,
   "metadata": {},
   "outputs": [
    {
     "name": "stdout",
     "output_type": "stream",
     "text": [
      "2\n"
     ]
    }
   ],
   "source": [
    "import random\n",
    "value=random.randint(1,6)\n",
    "print(value)"
   ]
  },
  {
   "cell_type": "code",
   "execution_count": 9,
   "metadata": {},
   "outputs": [
    {
     "name": "stdout",
     "output_type": "stream",
     "text": [
      "Hello\n"
     ]
    }
   ],
   "source": [
    "import random\n",
    "greetings=[\"Hello\",\"Hi\",\"How are you\"]\n",
    "value=random.choice(greetings)\n",
    "print(value)"
   ]
  },
  {
   "cell_type": "code",
   "execution_count": 12,
   "metadata": {},
   "outputs": [
    {
     "name": "stdout",
     "output_type": "stream",
     "text": [
      "['Black', 'Black', 'Black', 'Red', 'Red', 'Black', 'Black', 'Blue', 'Blue', 'Red']\n"
     ]
    }
   ],
   "source": [
    "import random\n",
    "colors=[\"Red\",\"Blue\",\"Black\"]\n",
    "result=random.choices(colors,k=10)\n",
    "print(result)"
   ]
  },
  {
   "cell_type": "code",
   "execution_count": 13,
   "metadata": {},
   "outputs": [
    {
     "name": "stdout",
     "output_type": "stream",
     "text": [
      "['Blue', 'Blue', 'Red', 'Blue', 'Blue', 'Blue', 'Black', 'Blue', 'Blue', 'Red']\n"
     ]
    }
   ],
   "source": [
    "import random\n",
    "colors=[\"Red\",\"Blue\",\"Black\"]\n",
    "result=random.choices(colors,weights=[18,18,2],k=10)\n",
    "print(result)"
   ]
  },
  {
   "cell_type": "code",
   "execution_count": 14,
   "metadata": {},
   "outputs": [
    {
     "name": "stdout",
     "output_type": "stream",
     "text": [
      "[22, 34, 17, 29, 11, 6, 35, 4, 52, 28, 45, 48, 51, 14, 27, 18, 36, 37, 38, 43, 21, 44, 39, 12, 8, 10, 33, 49, 16, 1, 20, 5, 47, 24, 15, 30, 9, 50, 40, 31, 19, 23, 41, 7, 25, 32, 42, 13, 26, 46, 2, 3]\n"
     ]
    }
   ],
   "source": [
    "deck=list(range(1,53))\n",
    "random.shuffle(deck)\n",
    "print(deck)\n"
   ]
  },
  {
   "cell_type": "code",
   "execution_count": 24,
   "metadata": {},
   "outputs": [
    {
     "name": "stdout",
     "output_type": "stream",
     "text": [
      "[14, 1, 6, 30, 39]\n"
     ]
    }
   ],
   "source": [
    "#sample grabs only unique cards from the sequence\n",
    "hand=random.sample(deck,k=5)\n",
    "print(hand)"
   ]
  },
  {
   "cell_type": "code",
   "execution_count": null,
   "metadata": {
    "collapsed": true
   },
   "outputs": [],
   "source": []
  },
  {
   "cell_type": "code",
   "execution_count": null,
   "metadata": {
    "collapsed": true
   },
   "outputs": [],
   "source": []
  }
 ],
 "metadata": {
  "kernelspec": {
   "display_name": "Python 3",
   "language": "python",
   "name": "python3"
  },
  "language_info": {
   "codemirror_mode": {
    "name": "ipython",
    "version": 3
   },
   "file_extension": ".py",
   "mimetype": "text/x-python",
   "name": "python",
   "nbconvert_exporter": "python",
   "pygments_lexer": "ipython3",
   "version": "3.6.1"
  }
 },
 "nbformat": 4,
 "nbformat_minor": 2
}
