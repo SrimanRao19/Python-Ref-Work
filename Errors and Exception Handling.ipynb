{
 "cells": [
  {
   "cell_type": "code",
   "execution_count": 1,
   "metadata": {},
   "outputs": [
    {
     "ename": "TypeError",
     "evalue": "unsupported operand type(s) for +: 'int' and 'str'",
     "output_type": "error",
     "traceback": [
      "\u001b[1;31m---------------------------------------------------------------------------\u001b[0m",
      "\u001b[1;31mTypeError\u001b[0m                                 Traceback (most recent call last)",
      "\u001b[1;32m<ipython-input-1-00a351bf2607>\u001b[0m in \u001b[0;36m<module>\u001b[1;34m()\u001b[0m\n\u001b[1;32m----> 1\u001b[1;33m \u001b[1;36m2\u001b[0m\u001b[1;33m+\u001b[0m\u001b[1;34m\"s\"\u001b[0m\u001b[1;33m\u001b[0m\u001b[0m\n\u001b[0m",
      "\u001b[1;31mTypeError\u001b[0m: unsupported operand type(s) for +: 'int' and 'str'"
     ]
    }
   ],
   "source": [
    "2+\"s\""
   ]
  },
  {
   "cell_type": "code",
   "execution_count": 5,
   "metadata": {},
   "outputs": [
    {
     "name": "stdout",
     "output_type": "stream",
     "text": [
      "There was a type error\n",
      "Finally this was printed\n"
     ]
    }
   ],
   "source": [
    "try:\n",
    "    2+\"s\"\n",
    "except:\n",
    "    print (\"There was a type error\")\n",
    "finally:\n",
    "    print(\"Finally this was printed\")"
   ]
  },
  {
   "cell_type": "code",
   "execution_count": 7,
   "metadata": {},
   "outputs": [
    {
     "name": "stdout",
     "output_type": "stream",
     "text": [
      "Error in writing to the file\n"
     ]
    }
   ],
   "source": [
    "try:\n",
    "    f=open(\"testfile\",\"r\")\n",
    "    f.write(\"Test write this\")\n",
    "except:\n",
    "    print(\"Error in writing to the file\")\n",
    "else:\n",
    "    print (\"File write was a success\")"
   ]
  },
  {
   "cell_type": "code",
   "execution_count": 11,
   "metadata": {},
   "outputs": [
    {
     "name": "stdout",
     "output_type": "stream",
     "text": [
      "There was an error\n",
      "Always execute finally code blocks\n"
     ]
    }
   ],
   "source": [
    "try:\n",
    "    f=open(\"testfile\",\"r\")\n",
    "    f.write(\"Test write this\")\n",
    "except:\n",
    "    print (\"There was an error\")\n",
    "finally:\n",
    "    print(\"Always execute finally code blocks\")"
   ]
  },
  {
   "cell_type": "code",
   "execution_count": 14,
   "metadata": {},
   "outputs": [],
   "source": [
    "def askint():\n",
    "    try:\n",
    "        val=int(input(\"Please enter an integer: \"))\n",
    "    except:\n",
    "        print (\"Looks like you didnt enter an integer\")\n",
    "    finally:\n",
    "        print (\"Finally block executed\")\n",
    "    print (val)"
   ]
  },
  {
   "cell_type": "code",
   "execution_count": 15,
   "metadata": {},
   "outputs": [
    {
     "data": {
      "text/plain": [
       "9"
      ]
     },
     "execution_count": 15,
     "metadata": {},
     "output_type": "execute_result"
    }
   ],
   "source": [
    "9"
   ]
  },
  {
   "cell_type": "code",
   "execution_count": 20,
   "metadata": {},
   "outputs": [
    {
     "name": "stdout",
     "output_type": "stream",
     "text": [
      "Please enter an integer: 9\n",
      "Finally block executed\n",
      "9\n"
     ]
    }
   ],
   "source": [
    "def askint():\n",
    "    try:\n",
    "        val=int(input(\"Please enter an integer: \"))\n",
    "    except:\n",
    "        print (\"Looks like you didnt enter an integer\")\n",
    "        val=int(input(\"Please try again and enter an integer: \"))\n",
    "    finally:\n",
    "        print (\"Finally block executed\")\n",
    "    print (val)\n",
    "askint()"
   ]
  },
  {
   "cell_type": "code",
   "execution_count": 22,
   "metadata": {},
   "outputs": [
    {
     "name": "stdout",
     "output_type": "stream",
     "text": [
      "Enter an integerd\n",
      "Looks like you did not enter an integer\n",
      "Finally block executed\n",
      "Enter an integerd\n",
      "Looks like you did not enter an integer\n",
      "Finally block executed\n",
      "Enter an integers\n",
      "Looks like you did not enter an integer\n",
      "Finally block executed\n",
      "Enter an integer4\n",
      "Correct,its an integer\n",
      "Finally block executed\n"
     ]
    }
   ],
   "source": [
    "def askint():\n",
    "    while True:\n",
    "        try:\n",
    "            val=int(input(\"Enter an integer\"))\n",
    "        except:\n",
    "            print (\"Looks like you did not enter an integer\")\n",
    "            continue\n",
    "        else:\n",
    "            print (\"Correct,its an integer\")\n",
    "            break\n",
    "        finally:\n",
    "            print(\"Finally block executed\")\n",
    "        print(val)\n",
    "askint()"
   ]
  },
  {
   "cell_type": "code",
   "execution_count": null,
   "metadata": {
    "collapsed": true
   },
   "outputs": [],
   "source": []
  }
 ],
 "metadata": {
  "kernelspec": {
   "display_name": "Python 3",
   "language": "python",
   "name": "python3"
  },
  "language_info": {
   "codemirror_mode": {
    "name": "ipython",
    "version": 3
   },
   "file_extension": ".py",
   "mimetype": "text/x-python",
   "name": "python",
   "nbconvert_exporter": "python",
   "pygments_lexer": "ipython3",
   "version": "3.6.1"
  }
 },
 "nbformat": 4,
 "nbformat_minor": 2
}
