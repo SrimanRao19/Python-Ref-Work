{
 "cells": [
  {
   "cell_type": "code",
   "execution_count": 1,
   "metadata": {},
   "outputs": [
    {
     "name": "stdout",
     "output_type": "stream",
     "text": [
      "Quack,quack\n",
      "Flap,Flap\n",
      "\n",
      "This has to be a duck\n",
      "\n"
     ]
    }
   ],
   "source": [
    "class Duck:\n",
    "    def quack(self):\n",
    "        print(\"Quack,quack\")\n",
    "    def fly(self):\n",
    "        print(\"Flap,Flap\")\n",
    "class Person:\n",
    "    def quack(self):\n",
    "        print(\"I am quacking like a duck\")\n",
    "    def fly(self):\n",
    "        print(\"I am flapping my arms\")\n",
    "def quack_and_fly(thing):\n",
    "    if isinstance(thing,Duck):\n",
    "        thing.quack()\n",
    "        thing.fly()\n",
    "    else:\n",
    "        print(\"This has to be a duck\")\n",
    "    print()\n",
    "d=Duck()\n",
    "quack_and_fly(d)\n",
    "p=Person()\n",
    "quack_and_fly(p)"
   ]
  },
  {
   "cell_type": "code",
   "execution_count": 4,
   "metadata": {},
   "outputs": [
    {
     "name": "stdout",
     "output_type": "stream",
     "text": [
      "Quack,quack\n",
      "Flap,Flap\n",
      "\n",
      "I am quacking like a duck\n",
      "I am flapping my arms\n",
      "\n"
     ]
    }
   ],
   "source": [
    "class Duck:\n",
    "    def quack(self):\n",
    "        print(\"Quack,quack\")\n",
    "    def fly(self):\n",
    "        print(\"Flap,Flap\")\n",
    "class Person:\n",
    "    def quack(self):\n",
    "        print(\"I am quacking like a duck\")\n",
    "    def fly(self):\n",
    "        print(\"I am flapping my arms\")\n",
    "def quack_and_fly(thing):\n",
    "        thing.quack()\n",
    "        thing.fly()\n",
    "        print()\n",
    "d=Duck()\n",
    "quack_and_fly(d)\n",
    "d.quack_and_fly()\n",
    "p=Person()\n",
    "quack_and_fly(p)"
   ]
  },
  {
   "cell_type": "code",
   "execution_count": null,
   "metadata": {
    "collapsed": true
   },
   "outputs": [],
   "source": [
    "#Not Duck-Typed (Non-Pythonic)\n",
    "    if isinstance(thing, Duck):\n",
    "         thing.quack()\n",
    "            thing.fly()\n",
    "    else:\n",
    "         print('This has to be a Duck!')\n",
    "\n",
    "    # LBYL (Non-Pythonic)\n",
    "    if hasattr(thing, 'quack'):\n",
    "         if callable(thing.quack):\n",
    "                thing.quack()\n",
    "\n",
    "    if hasattr(thing, 'fly'):\n",
    "         if callable(thing.fly):\n",
    "                thing.fly()\n",
    "\n",
    "       \n",
    "\n",
    "d = Duck()"
   ]
  }
 ],
 "metadata": {
  "kernelspec": {
   "display_name": "Python 3",
   "language": "python",
   "name": "python3"
  },
  "language_info": {
   "codemirror_mode": {
    "name": "ipython",
    "version": 3
   },
   "file_extension": ".py",
   "mimetype": "text/x-python",
   "name": "python",
   "nbconvert_exporter": "python",
   "pygments_lexer": "ipython3",
   "version": "3.6.1"
  }
 },
 "nbformat": 4,
 "nbformat_minor": 2
}
