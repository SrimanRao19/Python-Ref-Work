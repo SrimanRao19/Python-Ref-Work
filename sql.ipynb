{
 "cells": [
  {
   "cell_type": "code",
   "execution_count": 42,
   "metadata": {},
   "outputs": [],
   "source": [
    "class Employee:\n",
    "    def __init__(self,first,second,pay):\n",
    "        self.first=first\n",
    "        self.second=second\n",
    "        self.pay=pay\n",
    "    @property\n",
    "    def email(self):\n",
    "        return \"{}.{}@email.com\".format(self.first,self.second)\n",
    "    @property\n",
    "    def fullname(self):\n",
    "        return \"{} {}\".format(self.first,self.second)\n",
    "    def __repr__(self):\n",
    "        return \"Employee({},{},{})\".format(self.first,self.second,self.pay)\n",
    "\n",
    "import sqlite3\n",
    "\n",
    "\n",
    "conn=sqlite3.connect(\":memory:\")\n"
   ]
  },
  {
   "cell_type": "code",
   "execution_count": 43,
   "metadata": {},
   "outputs": [],
   "source": [
    "c=conn.cursor()"
   ]
  },
  {
   "cell_type": "code",
   "execution_count": 44,
   "metadata": {},
   "outputs": [
    {
     "data": {
      "text/plain": [
       "<sqlite3.Cursor at 0x2940479f8f0>"
      ]
     },
     "execution_count": 44,
     "metadata": {},
     "output_type": "execute_result"
    }
   ],
   "source": [
    "c.execute(\"\"\"create table empl (first text, second text,pay integer)\"\"\")"
   ]
  },
  {
   "cell_type": "code",
   "execution_count": 56,
   "metadata": {},
   "outputs": [
    {
     "name": "stdout",
     "output_type": "stream",
     "text": [
      "[('Sriman', 'Rao', 1234567), ('Sriman', 'Rao', 1234567), ('Sriman', 'Rao', 1234567), ('Sriman', 'Rao', 1234567), ('Sriman', 'Rao', 1234567), ('Sriman', 'Rao', 1234567)]\n"
     ]
    }
   ],
   "source": [
    "def insert_emp(emp):\n",
    "        with conn:\n",
    "                c.execute(\"insert into empl values(?, ?, ?)\",(emp.first,emp.second,emp.pay))\n",
    "\n",
    "\n",
    "\n",
    "\n",
    "def get_emp_by_name(secondname):\n",
    "    c.execute(\"select * from empl where second=?\",(secondname,))\n",
    "    return c.fetchall()\n",
    "\n",
    "    \n",
    "\n",
    "\n",
    "\n",
    "def update_pay(emp,pay):\n",
    "    with conn:\n",
    "        c.execute(\"\"\"update empl set pay=:pay where first=:first and second=:second\"\"\",{'first':emp.first,'second':emp.second,'pay':pay})\n",
    "\n",
    "\n",
    "\n",
    "def remove_emp(emp):\n",
    "    with conn:\n",
    "        c.execute(\"delete from empl where first=:first and second=:second\",{'first':emp.first,'second':emp.second})\n",
    "\n",
    "\n",
    "\n",
    "\n",
    "emp_1=Employee(\"Sriman\",\"Rao\",213422)\n",
    "emp_2=Employee(\"Samyuktha\",\"Rao\",21342255)\n",
    "\n",
    "#insert_emp(emp_1)\n",
    "#insert_emp(emp_2)\n",
    "#update_pay(emp_1,1234567)\n",
    "emps=get_emp_by_name(\"Rao\")\n",
    "remove_emp(emp_2)\n",
    "print(emps)\n"
   ]
  },
  {
   "cell_type": "code",
   "execution_count": null,
   "metadata": {
    "collapsed": true
   },
   "outputs": [],
   "source": []
  },
  {
   "cell_type": "code",
   "execution_count": null,
   "metadata": {
    "collapsed": true
   },
   "outputs": [],
   "source": []
  }
 ],
 "metadata": {
  "kernelspec": {
   "display_name": "Python 3",
   "language": "python",
   "name": "python3"
  },
  "language_info": {
   "codemirror_mode": {
    "name": "ipython",
    "version": 3
   },
   "file_extension": ".py",
   "mimetype": "text/x-python",
   "name": "python",
   "nbconvert_exporter": "python",
   "pygments_lexer": "ipython3",
   "version": "3.6.1"
  }
 },
 "nbformat": 4,
 "nbformat_minor": 2
}
