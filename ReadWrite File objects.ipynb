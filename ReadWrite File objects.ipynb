{
 "cells": [
  {
   "cell_type": "code",
   "execution_count": 1,
   "metadata": {
    "collapsed": true
   },
   "outputs": [],
   "source": [
    "\n",
    "f=open(\"text.txt\",\"r\")"
   ]
  },
  {
   "cell_type": "code",
   "execution_count": 3,
   "metadata": {},
   "outputs": [
    {
     "name": "stdout",
     "output_type": "stream",
     "text": [
      "text.txt\n"
     ]
    }
   ],
   "source": [
    "print(f.name)"
   ]
  },
  {
   "cell_type": "code",
   "execution_count": 4,
   "metadata": {
    "collapsed": true
   },
   "outputs": [],
   "source": [
    "f.close()"
   ]
  },
  {
   "cell_type": "code",
   "execution_count": 5,
   "metadata": {},
   "outputs": [
    {
     "name": "stdout",
     "output_type": "stream",
     "text": [
      "r\n"
     ]
    }
   ],
   "source": [
    "print(f.mode)"
   ]
  },
  {
   "cell_type": "code",
   "execution_count": 6,
   "metadata": {},
   "outputs": [
    {
     "name": "stdout",
     "output_type": "stream",
     "text": [
      "True\n"
     ]
    }
   ],
   "source": [
    "#context manager\n",
    "with open(\"text.txt\",\"r\") as f:\n",
    "    pass\n",
    "print(f.closed)"
   ]
  },
  {
   "cell_type": "code",
   "execution_count": null,
   "metadata": {
    "collapsed": true
   },
   "outputs": [],
   "source": []
  },
  {
   "cell_type": "code",
   "execution_count": 7,
   "metadata": {},
   "outputs": [
    {
     "name": "stdout",
     "output_type": "stream",
     "text": [
      "Python is a great language and i will nail it\n"
     ]
    }
   ],
   "source": [
    "with open(\"text.txt\",\"r\") as f:\n",
    "    f_contents=f.read()\n",
    "    print(f_contents)"
   ]
  },
  {
   "cell_type": "code",
   "execution_count": 8,
   "metadata": {},
   "outputs": [
    {
     "name": "stdout",
     "output_type": "stream",
     "text": [
      "['Python is a great language and i will nail it']\n"
     ]
    }
   ],
   "source": [
    "with open(\"text.txt\",\"r\") as f:\n",
    "    f_contents=f.readlines()\n",
    "    print(f_contents)"
   ]
  },
  {
   "cell_type": "code",
   "execution_count": 11,
   "metadata": {},
   "outputs": [
    {
     "name": "stdout",
     "output_type": "stream",
     "text": [
      "Python is a great language and i will nail it\n",
      "\n"
     ]
    }
   ],
   "source": [
    "with open(\"text.txt\",\"r\") as f:\n",
    "    f_contents=f.readline()\n",
    "    print(f_contents)\n",
    "    f_contents=f.readline()\n",
    "    print(f_contents)"
   ]
  },
  {
   "cell_type": "code",
   "execution_count": 14,
   "metadata": {},
   "outputs": [
    {
     "name": "stdout",
     "output_type": "stream",
     "text": [
      "['Python is a great language and i will nail it. Corey Schafer is a good teacher\\n', 'Sachin Tendulkar\\n', 'Roger Federer\\n', 'Rafael Nadal\\n', 'George Mason University\\n', 'Hyderabad\\n']\n"
     ]
    }
   ],
   "source": [
    "with open(\"text.txt\",\"r\") as f:\n",
    "    f_contents=f.readlines()\n",
    "    print(f_contents)"
   ]
  },
  {
   "cell_type": "code",
   "execution_count": 15,
   "metadata": {},
   "outputs": [
    {
     "name": "stdout",
     "output_type": "stream",
     "text": [
      "Python is a great language and i will nail it. Corey Schafer is a good teacher\n",
      "Sachin Tendulkar\n",
      "Roger Federer\n",
      "Rafael Nadal\n",
      "George Mason University\n",
      "Hyderabad\n"
     ]
    }
   ],
   "source": [
    "with open(\"text.txt\",\"r\") as f:\n",
    "    for line in f:\n",
    "        print(line,end=\"\")\n",
    "        \n"
   ]
  },
  {
   "cell_type": "code",
   "execution_count": 18,
   "metadata": {},
   "outputs": [
    {
     "name": "stdout",
     "output_type": "stream",
     "text": [
      "Python is a great language and i will nail it. Corey Schafer is a good teacher\n",
      "Sachin Tendulkar\n",
      "Roge\n",
      "r Federer\n",
      "Rafael Nadal\n",
      "George Mason University\n",
      "Hyderabad\n",
      "\n"
     ]
    }
   ],
   "source": [
    "with open(\"text.txt\",\"r\") as f:\n",
    "    f_contents=f.read(100)\n",
    "    print(f_contents)\n",
    "    f_contents=f.read(100)\n",
    "    print(f_contents)"
   ]
  },
  {
   "cell_type": "code",
   "execution_count": 22,
   "metadata": {},
   "outputs": [
    {
     "name": "stdout",
     "output_type": "stream",
     "text": [
      "Python is \n",
      "This is another while loop\n",
      "a great la\n",
      "This is another while loop\n",
      "nguage and\n",
      "This is another while loop\n",
      " i will na\n",
      "This is another while loop\n",
      "il it. Cor\n",
      "This is another while loop\n",
      "ey Schafer\n",
      "This is another while loop\n",
      " is a good\n",
      "This is another while loop\n",
      " teacher\n",
      "S\n",
      "This is another while loop\n",
      "achin Tend\n",
      "This is another while loop\n",
      "ulkar\n",
      "Roge\n",
      "This is another while loop\n",
      "r Federer\n",
      "\n",
      "This is another while loop\n",
      "Rafael Nad\n",
      "This is another while loop\n",
      "al\n",
      "George \n",
      "This is another while loop\n",
      "Mason Univ\n",
      "This is another while loop\n",
      "ersity\n",
      "Hyd\n",
      "This is another while loop\n",
      "erabad\n",
      "\n",
      "This is another while loop\n"
     ]
    }
   ],
   "source": [
    "with open(\"text.txt\",\"r\") as f:\n",
    "    size_to_read=10\n",
    "    f_contents=f.read(size_to_read)\n",
    "    while len(f_contents)>0:\n",
    "        print(f_contents)\n",
    "        print(\"This is another while loop\")\n",
    "        f_contents=f.read(size_to_read)"
   ]
  },
  {
   "cell_type": "code",
   "execution_count": null,
   "metadata": {
    "collapsed": true
   },
   "outputs": [],
   "source": [
    "with open(\"text.txt\",\"r\") as f:\n",
    "    size_to_read=10\n",
    "    f_contents=f.read(size_to_read)\n",
    "    print(f.tell())\n",
    "    while len(f_contents)<=20:\n",
    "        print(f_contents)\n",
    "        f_contents=f.read(size_to_read)\n",
    "        "
   ]
  },
  {
   "cell_type": "code",
   "execution_count": null,
   "metadata": {
    "collapsed": true
   },
   "outputs": [],
   "source": [
    "with open(\"text.txt\",\"r\") as f:\n",
    "    size_to_read=10\n",
    "    f_contents=f.read(size_to_read)\n",
    "    print(f_contents,end=\"\")\n",
    "    print(f.tell())\n",
    "    f.seek(0)\n",
    "    f_contents=f.read(size_to_read)\n",
    "    print(f_contents,end=\"\")\n",
    "\n",
    "    \n",
    "        "
   ]
  },
  {
   "cell_type": "code",
   "execution_count": 2,
   "metadata": {},
   "outputs": [
    {
     "ename": "UnsupportedOperation",
     "evalue": "not writable",
     "output_type": "error",
     "traceback": [
      "\u001b[1;31m---------------------------------------------------------------------------\u001b[0m",
      "\u001b[1;31mUnsupportedOperation\u001b[0m                      Traceback (most recent call last)",
      "\u001b[1;32m<ipython-input-2-a6f861cd2f84>\u001b[0m in \u001b[0;36m<module>\u001b[1;34m()\u001b[0m\n\u001b[0;32m      1\u001b[0m \u001b[1;32mwith\u001b[0m \u001b[0mopen\u001b[0m\u001b[1;33m(\u001b[0m\u001b[1;34m\"text.txt\"\u001b[0m\u001b[1;33m,\u001b[0m\u001b[1;34m\"r\"\u001b[0m\u001b[1;33m)\u001b[0m\u001b[1;32mas\u001b[0m \u001b[0mf\u001b[0m\u001b[1;33m:\u001b[0m\u001b[1;33m\u001b[0m\u001b[0m\n\u001b[1;32m----> 2\u001b[1;33m     \u001b[0mf\u001b[0m\u001b[1;33m.\u001b[0m\u001b[0mwrite\u001b[0m\u001b[1;33m(\u001b[0m\u001b[1;34m\"text.txt\"\u001b[0m\u001b[1;33m)\u001b[0m\u001b[1;33m\u001b[0m\u001b[0m\n\u001b[0m",
      "\u001b[1;31mUnsupportedOperation\u001b[0m: not writable"
     ]
    }
   ],
   "source": [
    "with open(\"text.txt\",\"r\")as f:\n",
    "    f.write(\"text.txt\")"
   ]
  },
  {
   "cell_type": "code",
   "execution_count": 6,
   "metadata": {},
   "outputs": [],
   "source": [
    "with open(\"testing.txt\",\"w\")as f:\n",
    "    f.write(\"Tests\")\n",
    "    f.seek(0)\n",
    "    f.write(\"Sriman\")\n"
   ]
  },
  {
   "cell_type": "code",
   "execution_count": 7,
   "metadata": {
    "collapsed": true
   },
   "outputs": [],
   "source": [
    "with open(\"text.txt\",\"r\") as rf:\n",
    "    with open(\"text_copy.txt\",\"w\") as wf:\n",
    "        for line in rf:\n",
    "            wf.write(line)\n",
    "    \n",
    "    "
   ]
  },
  {
   "cell_type": "code",
   "execution_count": 10,
   "metadata": {},
   "outputs": [],
   "source": [
    "with open(\"text.txt\",\"r\") as rf:\n",
    "    with open(\"text_copy.txt\",\"w\") as wf:\n",
    "        chunk_size=4096\n",
    "        rf_chunk=rf.read(chunk_size)\n",
    "        while len(rf_chunk)>0:\n",
    "                wf.write(c)\n",
    "                rf_chunk=rf.read(chunk_size)\n",
    "            \n",
    "            "
   ]
  },
  {
   "cell_type": "code",
   "execution_count": null,
   "metadata": {
    "collapsed": true
   },
   "outputs": [],
   "source": []
  }
 ],
 "metadata": {
  "kernelspec": {
   "display_name": "Python 3",
   "language": "python",
   "name": "python3"
  },
  "language_info": {
   "codemirror_mode": {
    "name": "ipython",
    "version": 3
   },
   "file_extension": ".py",
   "mimetype": "text/x-python",
   "name": "python",
   "nbconvert_exporter": "python",
   "pygments_lexer": "ipython3",
   "version": "3.6.1"
  }
 },
 "nbformat": 4,
 "nbformat_minor": 2
}
