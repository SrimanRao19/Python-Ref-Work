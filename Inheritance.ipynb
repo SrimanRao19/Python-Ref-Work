{
 "cells": [
  {
   "cell_type": "code",
   "execution_count": 24,
   "metadata": {
    "collapsed": true
   },
   "outputs": [],
   "source": [
    "class Animal(object):\n",
    "    def __init__(self):\n",
    "        print(\"Animal created\")\n",
    "    def whoAmI(self):\n",
    "        print(\"Animal\")\n",
    "    def eat(self):\n",
    "        print(\"Eating\")"
   ]
  },
  {
   "cell_type": "code",
   "execution_count": 25,
   "metadata": {
    "collapsed": true
   },
   "outputs": [],
   "source": [
    "class Dog(Animal):\n",
    "    def __init__(self):\n",
    "        Animal.__init__(self)\n",
    "        print (\"Dog Created\")\n",
    "    def whoAmI(self):\n",
    "        print(\"Dog\")\n",
    "    def bark(self):\n",
    "        print (\"woof\")\n",
    "    "
   ]
  },
  {
   "cell_type": "code",
   "execution_count": 23,
   "metadata": {},
   "outputs": [
    {
     "name": "stdout",
     "output_type": "stream",
     "text": [
      "Animal created\n",
      "Dog Created\n"
     ]
    }
   ],
   "source": [
    "d=Dog()"
   ]
  },
  {
   "cell_type": "code",
   "execution_count": 26,
   "metadata": {},
   "outputs": [
    {
     "name": "stdout",
     "output_type": "stream",
     "text": [
      "Eating\n"
     ]
    }
   ],
   "source": [
    "d.eat()"
   ]
  },
  {
   "cell_type": "code",
   "execution_count": 2,
   "metadata": {},
   "outputs": [
    {
     "name": "stdout",
     "output_type": "stream",
     "text": [
      "100\n",
      "110\n",
      "10\n",
      "10\n"
     ]
    }
   ],
   "source": [
    "class Employee:\n",
    "    raise_amt=1.04\n",
    "    \n",
    "    def __init__(self,first_name,last_name,pay):\n",
    "        self.first_name=first_name #rhs has to be passed\n",
    "        self.last_name=last_name#lhs need not be the same name as the attribute\n",
    "        self.pay=pay#but it is a convention to keep both same\n",
    "        self.email=first_name+'_'+last_name+'@gmu.edu'\n",
    "    def fullname(self):\n",
    "        return\"{} {}\".format(self.first_name,self.last_name)\n",
    "    def apply_raise(self):\n",
    "        self.pay=int(self.pay*self.raise_amt)\n",
    "class Developer(Employee):\n",
    "    raise_amt=1.10\n",
    "dev_1=Developer('Corey','Schafer',100)\n",
    "dev_2=Developer('Mahesh','Babu',200)\n",
    "#when created and passed the attributes for the instances aboove it will look for the init method when it doesnt find one it will go ahead and inherit from the class above that is the parent class \n",
    "print(dev_1.pay)\n",
    "dev_1.apply_raise()\n",
    "print(dev_1.pay)\n",
    "dev_1=Employee('Corey','Schafer',10)\n",
    "dev_2=Employee(\"Mahesh\",\"Babu\",20)\n",
    "print(dev_1.pay)\n",
    "dev_1.apply_raise()\n",
    "print(dev_1.pay)"
   ]
  },
  {
   "cell_type": "code",
   "execution_count": 9,
   "metadata": {},
   "outputs": [
    {
     "name": "stdout",
     "output_type": "stream",
     "text": [
      "Sue_Smith@gmu.edu\n",
      "Mahesh_Babu@gmu.edu\n",
      "False\n",
      "True\n",
      "True\n",
      "True\n"
     ]
    }
   ],
   "source": [
    "class Employee:\n",
    "    raise_amt=1.04\n",
    "    \n",
    "    def __init__(self,first_name,last_name,pay):\n",
    "        self.first_name=first_name #rhs has to be passed\n",
    "        self.last_name=last_name#lhs need not be the same name as the attribute\n",
    "        self.pay=pay#but it is a convention to keep both same\n",
    "        self.email=first_name+'_'+last_name+'@gmu.edu'\n",
    "    def fullname(self):\n",
    "        return\"{} {}\".format(self.first_name,self.last_name)\n",
    "    def apply_raise(self):\n",
    "        self.pay=int(self.pay*self.raise_amt)\n",
    "class Developer(Employee):\n",
    "    raise_amt=1.10\n",
    "    def __init__(self,first_name,last_name,pay,prog_lang):\n",
    "             super().__init__(first_name,last_name,pay)#Employee class init method handles the first ,last name and pay\n",
    "             self.prog_lang=prog_lang\n",
    "class Manager(Employee):\n",
    "    def __init__(self,first_name,last_name,pay,employees=None):\n",
    "        super().__init__(first_name,last_name,pay)\n",
    "        if employees is None:\n",
    "                self.employees=[]\n",
    "        else:\n",
    "                self.employees=employees\n",
    "    def add_emp(self,emp):\n",
    "        if emp not in self.employees:\n",
    "            self.employees.append(emp)\n",
    "    def remove_emp(self,emp):\n",
    "        if emp in self.employees:\n",
    "            self.employess.remove(emp)\n",
    "    def print_emps(self):\n",
    "        for emp in self.employees:\n",
    "            print('-->',emp.fullname())\n",
    "dev_1=Developer('Corey','Schafer',60000,\"Python\")\n",
    "dev_2=Developer('Mahesh','Babu',560000,\"Java\")\n",
    "#when created and passed the attributes for the instances aboove it will look for the init method when it doesnt find one it will go ahead and inherit from the class above that is the parent class \n",
    "#print(dev_1.email)\n",
    "#dev_1.apply_raise()\n",
    "#print(dev_1.pay)\n",
    "#print(dev_1.fullname())\n",
    "mgr_1=Manager(\"Sue\",\"Smith\",90000,[dev_1])\n",
    "print(mgr_1.email)\n",
    "print(dev_2.email)\n",
    "print(isinstance(mgr_1,Developer))\n",
    "print(isinstance(mgr_1,Employee))\n",
    "print(isinstance(mgr_1,Manager))\n",
    "print(issubclass(Developer,Employee))\n",
    "#print(mgr_1.email)\n",
    "#mgr_1.add_emp(dev_1)\n",
    "#mgr_1.add_emp(dev_2)\n",
    "#mgr_1.print_emps()\n",
    "\n"
   ]
  },
  {
   "cell_type": "code",
   "execution_count": null,
   "metadata": {
    "collapsed": true
   },
   "outputs": [],
   "source": []
  }
 ],
 "metadata": {
  "kernelspec": {
   "display_name": "Python 3",
   "language": "python",
   "name": "python3"
  },
  "language_info": {
   "codemirror_mode": {
    "name": "ipython",
    "version": 3
   },
   "file_extension": ".py",
   "mimetype": "text/x-python",
   "name": "python",
   "nbconvert_exporter": "python",
   "pygments_lexer": "ipython3",
   "version": "3.6.1"
  }
 },
 "nbformat": 4,
 "nbformat_minor": 2
}
