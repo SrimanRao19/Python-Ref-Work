{
 "cells": [
  {
   "cell_type": "code",
   "execution_count": 16,
   "metadata": {},
   "outputs": [
    {
     "name": "stdout",
     "output_type": "stream",
     "text": [
      "60000\n",
      "62400\n",
      "2\n"
     ]
    }
   ],
   "source": [
    "class Employee:\n",
    "    raise_amount=1.04\n",
    "    num_of_emps=0\n",
    "    def __init__(self,first_name,last_name,pay):\n",
    "        self.first_name=first_name #rhs has to be passed\n",
    "        self.last_name=last_name#lhs need not be the same name as the attribute\n",
    "        self.pay=pay#but it is a convention to keep both same\n",
    "        self.email=first_name+'_'+last_name+'@gmu.edu'\n",
    "        Employee.num_of_emps+=1\n",
    "    def fullname(self):\n",
    "        return\"{} {}\".format(self.first_name,self.last_name)\n",
    "    def apply_raise(self):\n",
    "        self.pay=int(self.pay*self.raise_amount)#leaving it as self would help us changing only this instance variable incase we need to    \n",
    "emp_1=Employee('Sriman','Yadagiri',50000)#rhs in the third line is passed here\n",
    "emp_2=Employee('Samyuktha','Rao',60000)\n",
    "print(emp_2.pay)\n",
    "emp_2.apply_raise()\n",
    "print(emp_2.pay)\n",
    "print(Employee.num_of_emps)"
   ]
  },
  {
   "cell_type": "markdown",
   "metadata": {},
   "source": [
    "class Country:\n",
    "    type=\"Humans\"\n",
    "    def __init__(self,population,area,states,languages):\n",
    "        self.population=population\n",
    "        self.area=area\n",
    "        self.states=states\n",
    "        self.languages=languages\n",
    "    def density(self):\n",
    "        self.density=((self.area)*(self.states))\n",
    "India=Country(\"1.4B\",12,29,1400)\n",
    "USA=Country(\"300M\",18,50,10)\n",
    "Spain=Country(\"100M\",5,3,1)\n",
    "print(India.population)\n",
    "print(India.density())\n",
    "print(Spain.area)\n",
    "print(India.type)\n",
    "print(Country.density(Spain))"
   ]
  },
  {
   "cell_type": "code",
   "execution_count": 20,
   "metadata": {},
   "outputs": [
    {
     "name": "stdout",
     "output_type": "stream",
     "text": [
      "1.4\n",
      "None\n",
      "5\n",
      "Humans\n",
      "None\n"
     ]
    }
   ],
   "source": [
    "class Country:\n",
    "    type=\"Humans\"\n",
    "    def __init__(self,population,area,states,languages):\n",
    "        self.population=population\n",
    "        self.area=area\n",
    "        self.states=states\n",
    "        self.languages=languages\n",
    "    def density(self):\n",
    "        self.density=((self.area)*(self.population))\n",
    "India=Country(1.4,12,29,1400)\n",
    "USA=Country(300,18,50,10)\n",
    "Spain=Country(100,5,3,1)\n",
    "print(India.population)\n",
    "print(India.density())\n",
    "print(Spain.area)\n",
    "print(India.type)\n",
    "print(Country.density(Spain))"
   ]
  },
  {
   "cell_type": "code",
   "execution_count": null,
   "metadata": {
    "collapsed": true
   },
   "outputs": [],
   "source": []
  }
 ],
 "metadata": {
  "kernelspec": {
   "display_name": "Python 3",
   "language": "python",
   "name": "python3"
  },
  "language_info": {
   "codemirror_mode": {
    "name": "ipython",
    "version": 3
   },
   "file_extension": ".py",
   "mimetype": "text/x-python",
   "name": "python",
   "nbconvert_exporter": "python",
   "pygments_lexer": "ipython3",
   "version": "3.6.1"
  }
 },
 "nbformat": 4,
 "nbformat_minor": 2
}
