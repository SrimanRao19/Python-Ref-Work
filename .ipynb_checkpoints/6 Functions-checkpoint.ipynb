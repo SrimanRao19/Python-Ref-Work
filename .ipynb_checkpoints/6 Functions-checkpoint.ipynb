{
 "cells": [
  {
   "cell_type": "code",
   "execution_count": 1,
   "metadata": {},
   "outputs": [
    {
     "name": "stdout",
     "output_type": "stream",
     "text": [
      "<function hello_func at 0x000001EB1E61F400>\n"
     ]
    }
   ],
   "source": [
    "def hello_func():\n",
    "    pass\n",
    "print(hello_func)\n"
   ]
  },
  {
   "cell_type": "code",
   "execution_count": 2,
   "metadata": {},
   "outputs": [
    {
     "name": "stdout",
     "output_type": "stream",
     "text": [
      "None\n"
     ]
    }
   ],
   "source": [
    "def hello_func():\n",
    "    pass\n",
    "print(hello_func())\n"
   ]
  },
  {
   "cell_type": "code",
   "execution_count": 6,
   "metadata": {},
   "outputs": [
    {
     "name": "stdout",
     "output_type": "stream",
     "text": [
      "Hello\n"
     ]
    }
   ],
   "source": [
    "def hello_func():\n",
    "    print(\"Hello\")\n",
    "(hello_func())"
   ]
  },
  {
   "cell_type": "code",
   "execution_count": 9,
   "metadata": {},
   "outputs": [
    {
     "name": "stdout",
     "output_type": "stream",
     "text": [
      "Hello Function\n"
     ]
    }
   ],
   "source": [
    "def hello_func():\n",
    "    return \"Hello Function\"\n",
    "print(hello_func())\n"
   ]
  },
  {
   "cell_type": "code",
   "execution_count": 10,
   "metadata": {},
   "outputs": [
    {
     "name": "stdout",
     "output_type": "stream",
     "text": [
      "hello function\n"
     ]
    }
   ],
   "source": [
    "def hello_func():\n",
    "    return \"Hello Function\"\n",
    "print(hello_func().lower())\n"
   ]
  },
  {
   "cell_type": "code",
   "execution_count": 15,
   "metadata": {},
   "outputs": [
    {
     "name": "stdout",
     "output_type": "stream",
     "text": [
      "HI,Samyuktha Function\n"
     ]
    }
   ],
   "source": [
    "def hello_func(greeting,name=\"Sriman\"):\n",
    "    return \"{},{} Function\".format(greeting,name)\n",
    "print(hello_func(\"HI\",\"Samyuktha\"))"
   ]
  },
  {
   "cell_type": "code",
   "execution_count": 17,
   "metadata": {},
   "outputs": [
    {
     "name": "stdout",
     "output_type": "stream",
     "text": [
      "('SCi', 'Math')\n",
      "{'Name': 'Sriman', 'Age': 23}\n"
     ]
    }
   ],
   "source": [
    "def stude(*args,**kwargs):\n",
    "    print(args)\n",
    "    print(kwargs)\n",
    "stude(\"SCi\",\"Math\",Name=\"Sriman\",Age=23)"
   ]
  },
  {
   "cell_type": "code",
   "execution_count": 18,
   "metadata": {},
   "outputs": [
    {
     "name": "stdout",
     "output_type": "stream",
     "text": [
      "(['Math', 'Art'], {'name': 'Sriman', 'age': 23})\n",
      "{}\n"
     ]
    }
   ],
   "source": [
    "def stude(*args,**kwargs):\n",
    "    print(args)\n",
    "    print(kwargs)\n",
    "courses=[\"Math\",\"Art\"]\n",
    "info={'name':'Sriman','age':23}\n",
    "stude(courses,info)"
   ]
  },
  {
   "cell_type": "code",
   "execution_count": 19,
   "metadata": {},
   "outputs": [
    {
     "name": "stdout",
     "output_type": "stream",
     "text": [
      "('Math', 'Art')\n",
      "{'name': 'Sriman', 'age': 23}\n"
     ]
    }
   ],
   "source": [
    "def stude(*args,**kwargs):\n",
    "    print(args)\n",
    "    print(kwargs)\n",
    "courses=[\"Math\",\"Art\"]\n",
    "info={'name':'Sriman','age':23}\n",
    "stude(*courses,**info)"
   ]
  },
  {
   "cell_type": "code",
   "execution_count": 26,
   "metadata": {},
   "outputs": [
    {
     "name": "stdout",
     "output_type": "stream",
     "text": [
      "True\n",
      "31\n"
     ]
    }
   ],
   "source": [
    "month_days=[0,31,28,31,30,31,30,31,31,30,31,30,31]\n",
    "def leap(year):\n",
    "    return year%4==0 and(year%100!=0 or year%400==0)\n",
    "def number(month,year):\n",
    "    if not 1<=month<=12:\n",
    "        print (\"Invalid month\")\n",
    "    if month==2 and leap(year):\n",
    "        return 29\n",
    "    return month_days[month]\n",
    "print(leap(2016))\n",
    "print(number(3,2020))\n"
   ]
  },
  {
   "cell_type": "code",
   "execution_count": null,
   "metadata": {
    "collapsed": true
   },
   "outputs": [],
   "source": []
  }
 ],
 "metadata": {
  "kernelspec": {
   "display_name": "Python 3",
   "language": "python",
   "name": "python3"
  },
  "language_info": {
   "codemirror_mode": {
    "name": "ipython",
    "version": 3
   },
   "file_extension": ".py",
   "mimetype": "text/x-python",
   "name": "python",
   "nbconvert_exporter": "python",
   "pygments_lexer": "ipython3",
   "version": "3.6.1"
  }
 },
 "nbformat": 4,
 "nbformat_minor": 2
}
