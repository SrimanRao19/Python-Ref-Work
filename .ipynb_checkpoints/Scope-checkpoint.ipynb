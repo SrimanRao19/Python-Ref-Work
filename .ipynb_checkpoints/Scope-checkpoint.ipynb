{
 "cells": [
  {
   "cell_type": "code",
   "execution_count": 2,
   "metadata": {},
   "outputs": [
    {
     "name": "stdout",
     "output_type": "stream",
     "text": [
      "25\n",
      "50\n"
     ]
    }
   ],
   "source": [
    "x=25\n",
    "def printer():\n",
    "    x=50\n",
    "    return x\n",
    "print (x)\n",
    "print (printer())"
   ]
  },
  {
   "cell_type": "code",
   "execution_count": 3,
   "metadata": {
    "collapsed": true
   },
   "outputs": [],
   "source": [
    "#if a function is enclosed inside another function and the inner function uses the variable of the function which it is in then it can use the variable of the parent\n"
   ]
  },
  {
   "cell_type": "code",
   "execution_count": 15,
   "metadata": {},
   "outputs": [
    {
     "name": "stdout",
     "output_type": "stream",
     "text": [
      "Hyderabad says hello\n"
     ]
    }
   ],
   "source": [
    "name=\"Jimpakchipak\"\n",
    "def greet():\n",
    "    name=\"Hyderabad\"\n",
    "    def hello():\n",
    "        print (name +\" says hello\")\n",
    "    hello()\n",
    "greet()"
   ]
  },
  {
   "cell_type": "code",
   "execution_count": 16,
   "metadata": {},
   "outputs": [
    {
     "name": "stdout",
     "output_type": "stream",
     "text": [
      "Jimpakchipak\n"
     ]
    }
   ],
   "source": [
    "print (name)"
   ]
  },
  {
   "cell_type": "code",
   "execution_count": 20,
   "metadata": {},
   "outputs": [
    {
     "name": "stdout",
     "output_type": "stream",
     "text": [
      "x is 45\n",
      "Changed local x to 2\n",
      "x is still 45\n"
     ]
    }
   ],
   "source": [
    "x=45;\n",
    "def fun(x):\n",
    "    print (\"x is\", x)\n",
    "    x=2\n",
    "    print(\"Changed local x to\", x)\n",
    "fun(x)\n",
    "print(\"x is still\",x)"
   ]
  },
  {
   "cell_type": "code",
   "execution_count": 23,
   "metadata": {},
   "outputs": [
    {
     "name": "stdout",
     "output_type": "stream",
     "text": [
      "Before calling the variable is 50\n",
      "This function is now using global x 50\n",
      "Because of globally defined variable outside x is 50\n",
      "Running the func changed the variable to 51\n",
      "The value of x after running the function check has changed from global to local z that is 51\n"
     ]
    }
   ],
   "source": [
    "x=50\n",
    "def check():\n",
    "    global x\n",
    "    print(\"This function is now using global x\",x)\n",
    "    print(\"Because of globally defined variable outside x is\", x)\n",
    "    x=51\n",
    "    print(\"Running the func changed the variable to\", x)\n",
    "print(\"Before calling the variable is\", x)\n",
    "check()\n",
    "print(\"The value of x after running the function check has changed from global to local z that is\", x)"
   ]
  },
  {
   "cell_type": "code",
   "execution_count": null,
   "metadata": {
    "collapsed": true
   },
   "outputs": [],
   "source": []
  }
 ],
 "metadata": {
  "kernelspec": {
   "display_name": "Python 3",
   "language": "python",
   "name": "python3"
  },
  "language_info": {
   "codemirror_mode": {
    "name": "ipython",
    "version": 3
   },
   "file_extension": ".py",
   "mimetype": "text/x-python",
   "name": "python",
   "nbconvert_exporter": "python",
   "pygments_lexer": "ipython3",
   "version": "3.6.1"
  }
 },
 "nbformat": 4,
 "nbformat_minor": 2
}
