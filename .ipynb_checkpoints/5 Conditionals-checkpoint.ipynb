{
 "cells": [
  {
   "cell_type": "code",
   "execution_count": 1,
   "metadata": {},
   "outputs": [
    {
     "name": "stdout",
     "output_type": "stream",
     "text": [
      "Conditional was true\n"
     ]
    }
   ],
   "source": [
    "if True:\n",
    "    print(\"Conditional was true\")\n",
    "    "
   ]
  },
  {
   "cell_type": "code",
   "execution_count": 14,
   "metadata": {},
   "outputs": [
    {
     "name": "stdout",
     "output_type": "stream",
     "text": [
      "Language is Java\n"
     ]
    }
   ],
   "source": [
    "language=\"Java\"\n",
    "if language==\"Python\":\n",
    "    print(\"Language is python\")\n",
    "elif language==\"Java\":\n",
    "    print(\"Language is Java\")\n",
    "else:\n",
    "    print(\"No Match\")\n"
   ]
  },
  {
   "cell_type": "code",
   "execution_count": 15,
   "metadata": {
    "collapsed": true
   },
   "outputs": [],
   "source": [
    "#and and or and not  statements using if and else"
   ]
  },
  {
   "cell_type": "code",
   "execution_count": 17,
   "metadata": {},
   "outputs": [
    {
     "name": "stdout",
     "output_type": "stream",
     "text": [
      "Evaluated to false\n"
     ]
    }
   ],
   "source": [
    "condition=False\n",
    "if condition:\n",
    "    print(\"Evaluated to true\")\n",
    "else:\n",
    "    print(\"Evaluated to false\")"
   ]
  },
  {
   "cell_type": "code",
   "execution_count": 18,
   "metadata": {},
   "outputs": [
    {
     "name": "stdout",
     "output_type": "stream",
     "text": [
      "Evaluated to false\n"
     ]
    }
   ],
   "source": [
    "condition=0\n",
    "if condition:\n",
    "    print(\"Evaluated to true\")\n",
    "else:\n",
    "    print(\"Evaluated to false\")"
   ]
  },
  {
   "cell_type": "code",
   "execution_count": 20,
   "metadata": {},
   "outputs": [
    {
     "name": "stdout",
     "output_type": "stream",
     "text": [
      "1\n",
      "2\n",
      "3\n",
      "4\n",
      "5\n"
     ]
    }
   ],
   "source": [
    "nums=[1,2,3,4,5]\n",
    "for num in nums:\n",
    "    print (num)"
   ]
  },
  {
   "cell_type": "code",
   "execution_count": 22,
   "metadata": {},
   "outputs": [
    {
     "name": "stdout",
     "output_type": "stream",
     "text": [
      "111\n",
      "222\n",
      "Found the number\n",
      "4\n",
      "5\n",
      "6\n"
     ]
    }
   ],
   "source": [
    "nums=[111,222,3,4,5,6]\n",
    "for num in nums:\n",
    "    if num==3:\n",
    "        print(\"Found the number\")\n",
    "        continue\n",
    "    print(num)\n"
   ]
  },
  {
   "cell_type": "code",
   "execution_count": 28,
   "metadata": {},
   "outputs": [
    {
     "name": "stdout",
     "output_type": "stream",
     "text": [
      "111 a\n",
      "111 b\n",
      "111 c\n",
      "111 d\n",
      "111 e\n",
      "111 f\n",
      "111 g\n",
      "111 h\n",
      "222 a\n",
      "222 b\n",
      "222 c\n",
      "222 d\n",
      "222 e\n",
      "222 f\n",
      "222 g\n",
      "222 h\n",
      "3 a\n",
      "3 b\n",
      "3 c\n",
      "3 d\n",
      "3 e\n",
      "3 f\n",
      "3 g\n",
      "3 h\n",
      "4 a\n",
      "4 b\n",
      "4 c\n",
      "4 d\n",
      "4 e\n",
      "4 f\n",
      "4 g\n",
      "4 h\n",
      "5 a\n",
      "5 b\n",
      "5 c\n",
      "5 d\n",
      "5 e\n",
      "5 f\n",
      "5 g\n",
      "5 h\n",
      "6 a\n",
      "6 b\n",
      "6 c\n",
      "6 d\n",
      "6 e\n",
      "6 f\n",
      "6 g\n",
      "6 h\n"
     ]
    }
   ],
   "source": [
    "nums=[111,222,3,4,5,6]\n",
    "for num in nums:\n",
    "    for letter in \"abcdefgh\":\n",
    "        print(num,letter)\n",
    "      "
   ]
  },
  {
   "cell_type": "code",
   "execution_count": 32,
   "metadata": {},
   "outputs": [
    {
     "name": "stdout",
     "output_type": "stream",
     "text": [
      "1\n",
      "2\n",
      "3\n",
      "4\n",
      "5\n",
      "6\n",
      "7\n",
      "8\n",
      "9\n"
     ]
    }
   ],
   "source": [
    "for i in range(1,10):\n",
    "    print (i)"
   ]
  },
  {
   "cell_type": "code",
   "execution_count": 33,
   "metadata": {},
   "outputs": [
    {
     "name": "stdout",
     "output_type": "stream",
     "text": [
      "0\n",
      "1\n",
      "2\n",
      "3\n",
      "4\n",
      "5\n",
      "6\n",
      "7\n",
      "8\n",
      "9\n"
     ]
    }
   ],
   "source": [
    "x=0\n",
    "while x<10:\n",
    "    print(x)\n",
    "    x+=1"
   ]
  },
  {
   "cell_type": "code",
   "execution_count": null,
   "metadata": {
    "collapsed": true
   },
   "outputs": [],
   "source": []
  }
 ],
 "metadata": {
  "kernelspec": {
   "display_name": "Python 3",
   "language": "python",
   "name": "python3"
  },
  "language_info": {
   "codemirror_mode": {
    "name": "ipython",
    "version": 3
   },
   "file_extension": ".py",
   "mimetype": "text/x-python",
   "name": "python",
   "nbconvert_exporter": "python",
   "pygments_lexer": "ipython3",
   "version": "3.6.1"
  }
 },
 "nbformat": 4,
 "nbformat_minor": 2
}
