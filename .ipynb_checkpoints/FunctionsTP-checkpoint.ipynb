{
 "cells": [
  {
   "cell_type": "code",
   "execution_count": 1,
   "metadata": {},
   "outputs": [
    {
     "name": "stdout",
     "output_type": "stream",
     "text": [
      "What is this?\n"
     ]
    }
   ],
   "source": [
    "def printme(str):\n",
    "    print(str)\n",
    "    return\n",
    "printme(\"What is this?\")\n",
    "    \n",
    "    "
   ]
  },
  {
   "cell_type": "code",
   "execution_count": 2,
   "metadata": {},
   "outputs": [
    {
     "name": "stdout",
     "output_type": "stream",
     "text": [
      "Name Sriman\n",
      "Age 23\n"
     ]
    }
   ],
   "source": [
    "def printinfo(name,age):\n",
    "    print(\"Name\",name)\n",
    "    print(\"Age\",age)\n",
    "printinfo(name=\"Sriman\",age=\"23\")"
   ]
  },
  {
   "cell_type": "code",
   "execution_count": 5,
   "metadata": {},
   "outputs": [
    {
     "name": "stdout",
     "output_type": "stream",
     "text": [
      "Name Sriman\n",
      "Age 24\n"
     ]
    }
   ],
   "source": [
    "def printinfo1(name,age=23):\n",
    "    print(\"Name\",name)\n",
    "    print(\"Age\",age)\n",
    "printinfo1(\"Sriman\",24)\n"
   ]
  },
  {
   "cell_type": "code",
   "execution_count": 11,
   "metadata": {},
   "outputs": [
    {
     "name": "stdout",
     "output_type": "stream",
     "text": [
      "Value inside the function before change [10, 20, 30]\n",
      "Value inside the function after change [10, 20, 50]\n",
      "Values outside the function:  [10, 20, 50]\n"
     ]
    }
   ],
   "source": [
    "def changeme(mylist):\n",
    "    print(\"Value inside the function before change\", mylist)\n",
    "    mylist[2]=50\n",
    "    print(\"Value inside the function after change\", mylist)\n",
    "    return\n",
    "mylist=[10,20,30]\n",
    "changeme(mylist)\n",
    "print(\"Values outside the function: \",mylist)\n",
    "    "
   ]
  },
  {
   "cell_type": "code",
   "execution_count": 12,
   "metadata": {},
   "outputs": [
    {
     "name": "stdout",
     "output_type": "stream",
     "text": [
      "The list is  [1, 2, 3, 4]\n",
      "The list is  [5, 6, 7, 8]\n"
     ]
    }
   ],
   "source": [
    "def changeme1(my_list1):\n",
    "    my_list1=[1,2,3,4]\n",
    "    print(\"The list is \",my_list1)\n",
    "my_list1=[5,6,7,8]\n",
    "changeme1(my_list1)\n",
    "print(\"The list is \",my_list1)"
   ]
  },
  {
   "cell_type": "code",
   "execution_count": 16,
   "metadata": {},
   "outputs": [
    {
     "name": "stdout",
     "output_type": "stream",
     "text": [
      "Output is:  10\n",
      "10\n",
      "Output is:  70\n",
      "70\n",
      "60\n",
      "50\n"
     ]
    }
   ],
   "source": [
    "def keywrd(arg1,*vartuple):\n",
    "    print(\"Output is: \",arg1)\n",
    "    print(arg1)\n",
    "    for var in vartuple:\n",
    "        print(var)\n",
    "    return\n",
    "keywrd(10)\n",
    "keywrd(70,60,50)"
   ]
  },
  {
   "cell_type": "code",
   "execution_count": 21,
   "metadata": {},
   "outputs": [
    {
     "name": "stdout",
     "output_type": "stream",
     "text": [
      "70\n",
      "Value of total: 30\n"
     ]
    }
   ],
   "source": [
    "sum=lambda arg1,arg2:arg1+arg2\n",
    "\n",
    "sum1=sum(30,40)\n",
    "print(sum1)\n",
    "    \n",
    "print(\"Value of total:\",sum(10,20))"
   ]
  },
  {
   "cell_type": "code",
   "execution_count": 25,
   "metadata": {},
   "outputs": [
    {
     "name": "stdout",
     "output_type": "stream",
     "text": [
      "Inside the function :  30\n",
      "Outside the function :  30\n"
     ]
    }
   ],
   "source": [
    "def sum( arg1, arg2 ):\n",
    "   # Add both the parameters and return them.\"\n",
    "   total = arg1 + arg2\n",
    "   print (\"Inside the function : \", total)\n",
    "   return total\n",
    "\n",
    "# Now you can call sum function\n",
    "total = sum( 10, 20 )\n",
    "\n",
    "print (\"Outside the function : \", total )"
   ]
  },
  {
   "cell_type": "code",
   "execution_count": 30,
   "metadata": {},
   "outputs": [
    {
     "name": "stdout",
     "output_type": "stream",
     "text": [
      "The total states in USA is  30\n"
     ]
    },
    {
     "ename": "NameError",
     "evalue": "name 'totals' is not defined",
     "output_type": "error",
     "traceback": [
      "\u001b[1;31m---------------------------------------------------------------------------\u001b[0m",
      "\u001b[1;31mNameError\u001b[0m                                 Traceback (most recent call last)",
      "\u001b[1;32m<ipython-input-30-39933ac6cdbc>\u001b[0m in \u001b[0;36m<module>\u001b[1;34m()\u001b[0m\n\u001b[0;32m      4\u001b[0m     \u001b[1;32mreturn\u001b[0m \u001b[0mtotals\u001b[0m\u001b[1;33m\u001b[0m\u001b[0m\n\u001b[0;32m      5\u001b[0m \u001b[0mamericanstates\u001b[0m\u001b[1;33m(\u001b[0m\u001b[1;36m25\u001b[0m\u001b[1;33m,\u001b[0m\u001b[1;36m25\u001b[0m\u001b[1;33m)\u001b[0m\u001b[1;33m\u001b[0m\u001b[0m\n\u001b[1;32m----> 6\u001b[1;33m \u001b[0mprint\u001b[0m\u001b[1;33m(\u001b[0m\u001b[0mtotals\u001b[0m\u001b[1;33m)\u001b[0m\u001b[1;33m\u001b[0m\u001b[0m\n\u001b[0m\u001b[0;32m      7\u001b[0m \u001b[1;33m\u001b[0m\u001b[0m\n",
      "\u001b[1;31mNameError\u001b[0m: name 'totals' is not defined"
     ]
    }
   ],
   "source": [
    "def americanstates(south,north):\n",
    "    totals=south+north\n",
    "    print(\"The total states in USA is \",total)\n",
    "    return totals\n",
    "americanstates(25,25)\n",
    "\n",
    "    \n"
   ]
  },
  {
   "cell_type": "code",
   "execution_count": 37,
   "metadata": {},
   "outputs": [
    {
     "name": "stdout",
     "output_type": "stream",
     "text": [
      "Inside the function :  30\n",
      "Outside the function :  40\n"
     ]
    }
   ],
   "source": [
    "def sum( arg1, arg2 ):\n",
    "   # Add both the parameters and return them.\"\n",
    "   total = arg1 + arg2\n",
    "   print (\"Inside the function : \", total)\n",
    "   return total\n",
    "\n",
    "# Now you can call sum function\n",
    "sum( 10, 20 )\n",
    "\n",
    "print (\"Outside the function : \", total )"
   ]
  },
  {
   "cell_type": "code",
   "execution_count": 36,
   "metadata": {},
   "outputs": [
    {
     "name": "stdout",
     "output_type": "stream",
     "text": [
      "The sum of the arguments inside is  30\n",
      "Outside the function the total is  40\n"
     ]
    }
   ],
   "source": [
    "total=40\n",
    "def sum(arg1,arg2):\n",
    "    total=arg1+arg2\n",
    "    print(\"The sum of the arguments inside is \",total)\n",
    "    return total\n",
    "sum(10,20)\n",
    "print(\"Outside the function the total is \",total)\n"
   ]
  },
  {
   "cell_type": "code",
   "execution_count": null,
   "metadata": {
    "collapsed": true
   },
   "outputs": [],
   "source": []
  }
 ],
 "metadata": {
  "kernelspec": {
   "display_name": "Python 3",
   "language": "python",
   "name": "python3"
  },
  "language_info": {
   "codemirror_mode": {
    "name": "ipython",
    "version": 3
   },
   "file_extension": ".py",
   "mimetype": "text/x-python",
   "name": "python",
   "nbconvert_exporter": "python",
   "pygments_lexer": "ipython3",
   "version": "3.6.1"
  }
 },
 "nbformat": 4,
 "nbformat_minor": 2
}
