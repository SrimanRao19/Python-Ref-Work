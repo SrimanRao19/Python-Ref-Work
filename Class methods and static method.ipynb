{
 "cells": [
  {
   "cell_type": "code",
   "execution_count": 46,
   "metadata": {},
   "outputs": [
    {
     "name": "stdout",
     "output_type": "stream",
     "text": [
      "15\n",
      "15\n",
      "15\n",
      "Sriman Yadagiri\n",
      "Samyuktha Rao\n",
      "70000\n"
     ]
    }
   ],
   "source": [
    "class Employee:\n",
    "    num_of_emps=0\n",
    "    raise_amt=1.04\n",
    "    \n",
    "    def __init__(self,first_name,last_name,pay):\n",
    "        self.first_name=first_name #rhs has to be passed\n",
    "        self.last_name=last_name#lhs need not be the same name as the attribute\n",
    "        self.pay=pay#but it is a convention to keep both same\n",
    "        self.email=first_name+'_'+last_name+'@gmu.edu'\n",
    "        Employee.num_of_emps+=1\n",
    "    def fullname(self):\n",
    "        return\"{} {}\".format(self.first_name,self.last_name)\n",
    "    def apply_raise(self):\n",
    "        self.pay=int(self.pay*self.raise_amt)\n",
    "    @classmethod#working with a class instead of an instance\n",
    "    def set_raise_amt(cls,amount):\n",
    "        cls.raise_amt=amount\n",
    "        \n",
    "    @classmethod\n",
    "    def from_string(cls,emp_str):\n",
    "        first,last,pay=emp_str.split('-')\n",
    "        return cls(first,last,pay)\n",
    "        \n",
    "emp_1=Employee('Sriman','Yadagiri',50000)#rhs in the third line is passed here\n",
    "emp_2=Employee('Samyuktha','Rao',60000)\n",
    "Employee.set_raise_amt(15)\n",
    "print (Employee.raise_amt)\n",
    "print(emp_1.raise_amt)\n",
    "print(emp_2.raise_amt)\n",
    "print(emp_1.fullname())#running from function\n",
    "print(Employee.fullname(emp_2))#running from class\n",
    "emp_1_str=\"John-Doe-70000\"\n",
    "emp_2_str=\"Steve-Smith-30000\"\n",
    "emp_3_str=\"Jane-Doe-32000\"\n",
    "new_emp_1=Employee.from_string(emp_1_str)\n",
    "print (new_emp_1.pay)"
   ]
  },
  {
   "cell_type": "code",
   "execution_count": null,
   "metadata": {
    "collapsed": true
   },
   "outputs": [],
   "source": [
    "#static methods do not pass anything automatically neither the instance(self) nor the class(cls)"
   ]
  },
  {
   "cell_type": "code",
   "execution_count": 63,
   "metadata": {},
   "outputs": [
    {
     "name": "stdout",
     "output_type": "stream",
     "text": [
      "True\n"
     ]
    }
   ],
   "source": [
    "class Employee:\n",
    "    num_of_emps=0\n",
    "    raise_amt=1.04\n",
    "    \n",
    "    def __init__(self,first_name,last_name,pay):\n",
    "        self.first_name=first_name #rhs has to be passed\n",
    "        self.last_name=last_name#lhs need not be the same name as the attribute\n",
    "        self.pay=pay#but it is a convention to keep both same\n",
    "        self.email=first_name+'_'+last_name+'@gmu.edu'\n",
    "        Employee.num_of_emps+=1\n",
    "    def fullname(self):\n",
    "        return\"{} {}\".format(self.first_name,self.last_name)\n",
    "    def apply_raise(self):\n",
    "        self.pay=int(self.pay*self.raise_amt)\n",
    "    @classmethod#working with a class instead of an instance\n",
    "    def set_raise_amt(cls,amount):\n",
    "        cls.raise_amt=amount\n",
    "        \n",
    "    @classmethod\n",
    "    def from_string(cls,emp_str):\n",
    "        first,last,pay=emp_str.split('-')\n",
    "        return cls(first,last,pay)\n",
    "    @staticmethod\n",
    "    def is_workday(day):\n",
    "        if day.weekday()==5 or day.weekday()==6:\n",
    "            return False#means its hit the conditional and not a weekday\n",
    "        return True#means its a weekday\n",
    "        \n",
    "emp_1=Employee('Sriman','Yadagiri',50000)#rhs in the third line is passed here\n",
    "emp_2=Employee('Samyuktha','Rao',60000)\n",
    "import datetime\n",
    "my_date=datetime.date(2016,12,12)\n",
    "print(Employee.is_workday(my_date))"
   ]
  },
  {
   "cell_type": "code",
   "execution_count": null,
   "metadata": {
    "collapsed": true
   },
   "outputs": [],
   "source": []
  }
 ],
 "metadata": {
  "kernelspec": {
   "display_name": "Python 3",
   "language": "python",
   "name": "python3"
  },
  "language_info": {
   "codemirror_mode": {
    "name": "ipython",
    "version": 3
   },
   "file_extension": ".py",
   "mimetype": "text/x-python",
   "name": "python",
   "nbconvert_exporter": "python",
   "pygments_lexer": "ipython3",
   "version": "3.6.1"
  }
 },
 "nbformat": 4,
 "nbformat_minor": 2
}
