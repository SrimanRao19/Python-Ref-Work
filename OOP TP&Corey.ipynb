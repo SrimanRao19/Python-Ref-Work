{
 "cells": [
  {
   "cell_type": "code",
   "execution_count": 62,
   "metadata": {},
   "outputs": [],
   "source": [
    "class Employee:\n",
    "    empCount=0\n",
    "    def __init__(self,name,salary):\n",
    "        self.name=name\n",
    "        self.salary=salary\n",
    "        Employee.empCount+=1\n",
    "        self.email=self.name+\"@\"+\"gmu.edu\"\n",
    "\n",
    "    def displayCount(self):\n",
    "        print(\"Total Employee number is \",self.email)\n",
    "    def displayEmployee(self):\n",
    "        print (\"Name : \",self.name, \", Salary: \",self.salary)"
   ]
  },
  {
   "cell_type": "code",
   "execution_count": 64,
   "metadata": {},
   "outputs": [
    {
     "name": "stdout",
     "output_type": "stream",
     "text": [
      "Name :  Samyuktha , Salary:  25\n",
      "Total Employee number is  Sriman@gmu.edu\n",
      "Samyuktha@gmu.edu\n"
     ]
    }
   ],
   "source": [
    "emp1=Employee(\"Sriman\",10)\n",
    "emp3=Employee(\"Samyuktha\",25)\n",
    "emp3.displayEmployee()\n",
    "emp1.displayCount()\n",
    "print(emp3.email)"
   ]
  },
  {
   "cell_type": "code",
   "execution_count": 5,
   "metadata": {},
   "outputs": [
    {
     "name": "stdout",
     "output_type": "stream",
     "text": [
      "Name :  Sriman , Salary:  10\n"
     ]
    }
   ],
   "source": [
    "emp1.displayEmployee()"
   ]
  },
  {
   "cell_type": "code",
   "execution_count": 12,
   "metadata": {},
   "outputs": [
    {
     "name": "stdout",
     "output_type": "stream",
     "text": [
      "Name :  Samyuktha , Salary:  25\n",
      "None\n"
     ]
    }
   ],
   "source": [
    "print (Employee.displayEmployee(emp2))"
   ]
  },
  {
   "cell_type": "code",
   "execution_count": 14,
   "metadata": {},
   "outputs": [
    {
     "ename": "SyntaxError",
     "evalue": "EOL while scanning string literal (<ipython-input-14-f8ee1720ff7d>, line 1)",
     "output_type": "error",
     "traceback": [
      "\u001b[1;36m  File \u001b[1;32m\"<ipython-input-14-f8ee1720ff7d>\"\u001b[1;36m, line \u001b[1;32m1\u001b[0m\n\u001b[1;33m    print(\"Total Employees are %d %Employee.empCount)\u001b[0m\n\u001b[1;37m                                                     ^\u001b[0m\n\u001b[1;31mSyntaxError\u001b[0m\u001b[1;31m:\u001b[0m EOL while scanning string literal\n"
     ]
    }
   ],
   "source": [
    "print(\"Total Employees are %d %Employee.empCount)"
   ]
  },
  {
   "cell_type": "code",
   "execution_count": 40,
   "metadata": {},
   "outputs": [
    {
     "data": {
      "text/plain": [
       "('The total students= ', 'balance')"
      ]
     },
     "execution_count": 40,
     "metadata": {},
     "output_type": "execute_result"
    }
   ],
   "source": [
    "class Mason:\n",
    "    Tstudents=0\n",
    "    def __init__(self,name,course,domain):\n",
    "        self.name=name\n",
    "        self.course=course\n",
    "        self.domain=domain\n",
    "        self.balance=\"balance\"\n",
    "        Mason.Tstudents+=1\n",
    "    def studentMail(self):\n",
    "        return \"{} @ {}\".format(self.name,self.domain)\n",
    "    def TotStu(self):\n",
    "        return \"The total students= \",self.balance\n",
    "student1=Mason(\"Sriman\",\"CS\",\"gmu.edu\")\n",
    "student1.TotStu()    "
   ]
  },
  {
   "cell_type": "code",
   "execution_count": 10,
   "metadata": {},
   "outputs": [
    {
     "ename": "AttributeError",
     "evalue": "'Mason' object has no attribute 'studentMail'",
     "output_type": "error",
     "traceback": [
      "\u001b[1;31m---------------------------------------------------------------------------\u001b[0m",
      "\u001b[1;31mAttributeError\u001b[0m                            Traceback (most recent call last)",
      "\u001b[1;32m<ipython-input-10-2c358c0d2414>\u001b[0m in \u001b[0;36m<module>\u001b[1;34m()\u001b[0m\n\u001b[1;32m----> 1\u001b[1;33m \u001b[0mstudent1\u001b[0m\u001b[1;33m.\u001b[0m\u001b[0mstudentMail\u001b[0m\u001b[1;33m(\u001b[0m\u001b[1;33m)\u001b[0m\u001b[1;33m\u001b[0m\u001b[0m\n\u001b[0m\u001b[0;32m      2\u001b[0m \u001b[1;33m\u001b[0m\u001b[0m\n",
      "\u001b[1;31mAttributeError\u001b[0m: 'Mason' object has no attribute 'studentMail'"
     ]
    }
   ],
   "source": [
    "\n",
    "\n"
   ]
  },
  {
   "cell_type": "code",
   "execution_count": 23,
   "metadata": {},
   "outputs": [
    {
     "ename": "TypeError",
     "evalue": "TotStu() missing 1 required positional argument: 'self'",
     "output_type": "error",
     "traceback": [
      "\u001b[1;31m---------------------------------------------------------------------------\u001b[0m",
      "\u001b[1;31mTypeError\u001b[0m                                 Traceback (most recent call last)",
      "\u001b[1;32m<ipython-input-23-91fea2fca60b>\u001b[0m in \u001b[0;36m<module>\u001b[1;34m()\u001b[0m\n\u001b[1;32m----> 1\u001b[1;33m \u001b[0mMason\u001b[0m\u001b[1;33m.\u001b[0m\u001b[0mTotStu\u001b[0m\u001b[1;33m(\u001b[0m\u001b[1;33m)\u001b[0m\u001b[1;33m\u001b[0m\u001b[0m\n\u001b[0m",
      "\u001b[1;31mTypeError\u001b[0m: TotStu() missing 1 required positional argument: 'self'"
     ]
    }
   ],
   "source": [
    "Mason.TotStu()"
   ]
  },
  {
   "cell_type": "code",
   "execution_count": 24,
   "metadata": {},
   "outputs": [
    {
     "ename": "AttributeError",
     "evalue": "type object 'Mason' has no attribute 'studentMail'",
     "output_type": "error",
     "traceback": [
      "\u001b[1;31m---------------------------------------------------------------------------\u001b[0m",
      "\u001b[1;31mAttributeError\u001b[0m                            Traceback (most recent call last)",
      "\u001b[1;32m<ipython-input-24-e8c13b321e81>\u001b[0m in \u001b[0;36m<module>\u001b[1;34m()\u001b[0m\n\u001b[1;32m----> 1\u001b[1;33m \u001b[0mMason\u001b[0m\u001b[1;33m.\u001b[0m\u001b[0mstudentMail\u001b[0m\u001b[1;33m(\u001b[0m\u001b[0mstudent2\u001b[0m\u001b[1;33m)\u001b[0m\u001b[1;33m\u001b[0m\u001b[0m\n\u001b[0m",
      "\u001b[1;31mAttributeError\u001b[0m: type object 'Mason' has no attribute 'studentMail'"
     ]
    }
   ],
   "source": [
    "Mason.studentMail(student2)"
   ]
  },
  {
   "cell_type": "code",
   "execution_count": 25,
   "metadata": {},
   "outputs": [
    {
     "name": "stdout",
     "output_type": "stream",
     "text": [
      "The total students is  2\n"
     ]
    }
   ],
   "source": [
    "print(\"The total students is \",Mason.Tstudents)"
   ]
  },
  {
   "cell_type": "code",
   "execution_count": 26,
   "metadata": {},
   "outputs": [
    {
     "data": {
      "text/plain": [
       "False"
      ]
     },
     "execution_count": 26,
     "metadata": {},
     "output_type": "execute_result"
    }
   ],
   "source": [
    "hasattr(student1,\"age\")"
   ]
  },
  {
   "cell_type": "code",
   "execution_count": 27,
   "metadata": {},
   "outputs": [
    {
     "data": {
      "text/plain": [
       "'Sriman'"
      ]
     },
     "execution_count": 27,
     "metadata": {},
     "output_type": "execute_result"
    }
   ],
   "source": [
    "getattr(student1,\"name\")"
   ]
  },
  {
   "cell_type": "code",
   "execution_count": 28,
   "metadata": {
    "collapsed": true
   },
   "outputs": [],
   "source": [
    "setattr(student1,\"age\",23)"
   ]
  },
  {
   "cell_type": "code",
   "execution_count": 29,
   "metadata": {},
   "outputs": [
    {
     "data": {
      "text/plain": [
       "True"
      ]
     },
     "execution_count": 29,
     "metadata": {},
     "output_type": "execute_result"
    }
   ],
   "source": [
    "hasattr(student1,\"age\")"
   ]
  },
  {
   "cell_type": "code",
   "execution_count": 30,
   "metadata": {
    "collapsed": true
   },
   "outputs": [],
   "source": [
    "delattr(student1,\"age\")"
   ]
  },
  {
   "cell_type": "code",
   "execution_count": 66,
   "metadata": {},
   "outputs": [
    {
     "ename": "AttributeError",
     "evalue": "'Employee' object has no attribute 'email'",
     "output_type": "error",
     "traceback": [
      "\u001b[1;31m---------------------------------------------------------------------------\u001b[0m",
      "\u001b[1;31mAttributeError\u001b[0m                            Traceback (most recent call last)",
      "\u001b[1;32m<ipython-input-66-f3fc4782e486>\u001b[0m in \u001b[0;36m<module>\u001b[1;34m()\u001b[0m\n\u001b[0;32m     16\u001b[0m \u001b[0mdev_1\u001b[0m\u001b[1;33m=\u001b[0m\u001b[0mEmployee\u001b[0m\u001b[1;33m(\u001b[0m\u001b[1;34m\"Sriman\"\u001b[0m\u001b[1;33m,\u001b[0m\u001b[1;34m\"Yadagiri\"\u001b[0m\u001b[1;33m,\u001b[0m\u001b[1;36m150\u001b[0m\u001b[1;33m)\u001b[0m\u001b[1;33m\u001b[0m\u001b[0m\n\u001b[0;32m     17\u001b[0m \u001b[0mdev_2\u001b[0m\u001b[1;33m=\u001b[0m\u001b[0mDeveloper\u001b[0m\u001b[1;33m(\u001b[0m\u001b[1;34m\"Samyuktha\"\u001b[0m\u001b[1;33m,\u001b[0m\u001b[1;34m\"Rao\"\u001b[0m\u001b[1;33m,\u001b[0m\u001b[1;36m180\u001b[0m\u001b[1;33m)\u001b[0m\u001b[1;33m\u001b[0m\u001b[0m\n\u001b[1;32m---> 18\u001b[1;33m \u001b[0mprint\u001b[0m\u001b[1;33m(\u001b[0m\u001b[0mdev_1\u001b[0m\u001b[1;33m.\u001b[0m\u001b[0memail\u001b[0m\u001b[1;33m)\u001b[0m\u001b[1;33m\u001b[0m\u001b[0m\n\u001b[0m\u001b[0;32m     19\u001b[0m \u001b[0mprint\u001b[0m\u001b[1;33m(\u001b[0m\u001b[0mdev_1\u001b[0m\u001b[1;33m.\u001b[0m\u001b[0mpay\u001b[0m\u001b[1;33m)\u001b[0m\u001b[1;33m\u001b[0m\u001b[0m\n\u001b[0;32m     20\u001b[0m \u001b[0mprint\u001b[0m\u001b[1;33m(\u001b[0m\u001b[0mdev_2\u001b[0m\u001b[1;33m.\u001b[0m\u001b[0mpay\u001b[0m\u001b[1;33m)\u001b[0m\u001b[1;33m\u001b[0m\u001b[0m\n",
      "\u001b[1;31mAttributeError\u001b[0m: 'Employee' object has no attribute 'email'"
     ]
    }
   ],
   "source": [
    "#inheritance\n",
    "class Employee:\n",
    "    amt_raise=1.5\n",
    "    def __init__(self,first_name,last_name,pay):\n",
    "        self.first_name=first_name\n",
    "        self.last_name=last_name\n",
    "        self.pay=pay\n",
    "\n",
    "    def fullname(self):\n",
    "        self.email=\"{}{}@gmu.edu\".format(self.first_name,self.last_name)\n",
    "        return \"{} {}\".format(self.first_name,self.last_name)\n",
    "    def apply_raise(self):\n",
    "        self.pay=(self.amt_raise*self.pay)\n",
    "class Developer(Employee):\n",
    "    amt_raise=1.8\n",
    "dev_1=Employee(\"Sriman\",\"Yadagiri\",150)\n",
    "dev_2=Developer(\"Samyuktha\",\"Rao\",180)\n",
    "print(dev_1.email)\n",
    "print(dev_1.pay)\n",
    "print(dev_2.pay)\n",
    "dev_1.apply_raise()\n",
    "dev_2.apply_raise()\n",
    "print(dev_1.pay)\n",
    "print(dev_2.pay)\n",
    "emp_1=Employee(\"Sachin\",\"Tendulkar\",15)\n",
    "emp_2=Employee(\"Virat\",\"Rao\",18)\n",
    "print(emp_1.pay)\n",
    "emp_1.apply_raise()\n",
    "print(emp_1.pay)\n",
    "print(emp_1.email)\n",
    "    \n",
    "    \n",
    "    "
   ]
  },
  {
   "cell_type": "code",
   "execution_count": 1,
   "metadata": {},
   "outputs": [
    {
     "name": "stdout",
     "output_type": "stream",
     "text": [
      "BC@gmu.edu\n",
      "A B\n",
      "False\n",
      "True\n",
      "True\n",
      "True\n"
     ]
    }
   ],
   "source": [
    "class Employee:\n",
    "    amt_raise=1.5\n",
    "    def __init__(self,f_name,l_name,amt):\n",
    "        self.f_name=f_name\n",
    "        self.l_name=l_name\n",
    "        self.amt=amt\n",
    "        self.email=\"{}{}@gmu.edu\".format(self.f_name,self.l_name)\n",
    "    def fullname(self):\n",
    "        return \"{} {}\".format(self.f_name,self.l_name)\n",
    "    def pay_raise(self):\n",
    "        self.amt=self.amt*amt_raise\n",
    "class Developer(Employee):\n",
    "    amt_raise=2.0\n",
    "    def __init__(self,f_name,l_name,amt,language):\n",
    "        super().__init__(f_name,l_name,amt)\n",
    "        self.language=language     \n",
    "class Manager(Employee):\n",
    "    amt_raise=3.0\n",
    "    def __init__(self,f_name,l_name,amt,language,employees=None):\n",
    "            super().__init__(f_name,l_name,amt)\n",
    "            if employees is None:\n",
    "                self.employees=[]\n",
    "            else:\n",
    "                self.employees=employees\n",
    "    def add_emp(self,emp):\n",
    "        if emp not in self.employees:\n",
    "            self.employees.append(emp)\n",
    "    def remove_emp(self,emp):\n",
    "        if emp in self.employees:\n",
    "            self.employees.remove(emp)\n",
    "    def total_employees(self):\n",
    "        for emp in self.employees:\n",
    "            print(emp.fullname())\n",
    "dev_1=Developer(\"A\",\"B\",100,\"java\",)\n",
    "dev_1.fullname()\n",
    "emp_1=Employee(\"A\",\"Z\",50000)\n",
    "mgr_1=Manager(\"B\",\"C\",1000,\"Python\",[dev_1])\n",
    "print(mgr_1.email)\n",
    "mgr_1.total_employees()\n",
    "print(isinstance(mgr_1,Developer))\n",
    "print(isinstance(mgr_1,Employee))\n",
    "print(isinstance(mgr_1,Manager))\n",
    "print(issubclass(Developer,Employee))\n",
    "        \n",
    "        \n",
    "                   \n",
    "                    \n",
    "                \n",
    "     \n",
    "    \n",
    "\n",
    "    "
   ]
  },
  {
   "cell_type": "code",
   "execution_count": 26,
   "metadata": {},
   "outputs": [
    {
     "name": "stdout",
     "output_type": "stream",
     "text": [
      "1.5\n",
      "2\n",
      "2\n",
      "JohnDoe@gmu.edu\n"
     ]
    }
   ],
   "source": [
    "class Employee:\n",
    "    amt_raise=1.5\n",
    "    def __init__(self,f_name,l_name,amt):\n",
    "        self.f_name=f_name\n",
    "        self.l_name=l_name\n",
    "        self.amt=amt\n",
    "        self.email=\"{}{}@gmu.edu\".format(self.f_name,self.l_name)\n",
    "    def fullname(self):\n",
    "        return \"{} {}\".format(self.f_name,self.l_name)\n",
    "    def pay_raise(self):\n",
    "        self.amt=self.amt*self.amt_raise\n",
    "    @classmethod\n",
    "    def set_raise_amt(cls,amount):\n",
    "        cls.amt_raise=amount\n",
    "    @classmethod  \n",
    "    def con_string(cls,emp_str):\n",
    "        first,last,pay=emp_str.split(\"-\")\n",
    "        return cls(first,last,pay)\n",
    "\n",
    "emp_1=Employee(\"Sriman\",\"Rao\",50000)\n",
    "emp_2=Employee(\"Samyuktha\",\"Rao\",60000)\n",
    "print(emp_1.amt_raise)\n",
    "Employee.set_raise_amt(2)\n",
    "print(Employee.amt_raise)\n",
    "print(emp_1.amt_raise)\n",
    "emp_str_1=\"John-Doe-20000\"\n",
    "emp_str_2=\"Steve-Smith-10000\"\n",
    "new_emp_1=Employee.con_string(emp_str_1)\n",
    "print(new_emp_1.email)\n",
    "        "
   ]
  },
  {
   "cell_type": "code",
   "execution_count": 12,
   "metadata": {},
   "outputs": [
    {
     "name": "stdout",
     "output_type": "stream",
     "text": [
      "<bound method Employee.pay_raise of <__main__.Employee object at 0x000001E88E15CB00>>\n",
      "<bound method Employee.pay_raise of <__main__.Employee object at 0x000001E88E15CB00>>\n",
      "False\n"
     ]
    }
   ],
   "source": [
    "class Employee:\n",
    "    amt_raise=1.5\n",
    "    def __init__(self,f_name,l_name,amt):\n",
    "        self.f_name=f_name\n",
    "        self.l_name=l_name\n",
    "        self.amt=amt\n",
    "        self.email=\"{}{}@gmu.edu\".format(self.f_name,self.l_name)\n",
    "    def fullname(self):\n",
    "        return \"{} {}\".format(self.f_name,self.l_name)\n",
    "    def pay_raise(self):\n",
    "        self.amt=self.amt*self.amt_raise\n",
    "        return (self.amt)\n",
    "    @classmethod#works with class variables\n",
    "    def set_raise_amt(cls,amount):#cls is a convention\n",
    "        cls.amt_raise=amount\n",
    "    @classmethod  \n",
    "    def con_string(cls,emp_str):\n",
    "        first,last,pay=emp_str.split(\"-\")\n",
    "        return cls(first,last,pay)\n",
    "    @staticmethod\n",
    "    def isworkday(day):\n",
    "        if day.weekday()==5 or day.weekday()==6:\n",
    "            return False\n",
    "        return True\n",
    "\n",
    "\n",
    "\n",
    "emp_1=Employee(\"Sriman\",\"Rao\",50000)\n",
    "emp_2=Employee(\"Samyuktha\",\"Rao\",60000)\n",
    "print(emp_1.pay_raise)\n",
    "emp_1.set_raise_amt(4)\n",
    "print(emp_1.pay_raise)\n",
    "import datetime\n",
    "my_date=datetime.date(2016,7,10)\n",
    "print (Employee.isworkday(my_date))"
   ]
  },
  {
   "cell_type": "code",
   "execution_count": 44,
   "metadata": {},
   "outputs": [
    {
     "name": "stdout",
     "output_type": "stream",
     "text": [
      "Employee('Sriman','Rao','50000')\n",
      "Sriman Rao-SrimanRao@gmu.edu\n",
      "110000\n",
      "10\n"
     ]
    }
   ],
   "source": [
    "#Magic/Dunder Methods\n",
    "class Employee:\n",
    "    amt_raise=1.5\n",
    "    def __init__(self,f_name,l_name,amt):\n",
    "        self.f_name=f_name\n",
    "        self.l_name=l_name\n",
    "        self.amt=amt\n",
    "        self.email=\"{}{}@gmu.edu\".format(self.f_name,self.l_name)\n",
    "    def fullname(self):\n",
    "        return \"{} {}\".format(self.f_name,self.l_name)\n",
    "    def pay_raise(self):\n",
    "        self.amt=self.amt*self.amt_raise\n",
    "    def __repr__(self):\n",
    "        return \"Employee('{}','{}','{}')\".format(self.f_name,self.l_name,self.amt)\n",
    "    def __str__(self):\n",
    "        return '{}-{}'.format(self.fullname(),self.email)\n",
    "    def __add__(self,other):\n",
    "        return self.amt+other.amt\n",
    "    def __len__(self):\n",
    "        return len(self.fullname())\n",
    "    \n",
    "emp_1=Employee(\"Sriman\",\"Rao\",50000)\n",
    "emp_2=Employee(\"Samyuktha\",\"Rao\",60000)\n",
    "print(repr(emp_1))\n",
    "print(str(emp_1))\n",
    "print(emp_1+emp_2)\n",
    "print(len(emp_1))"
   ]
  },
  {
   "cell_type": "code",
   "execution_count": 3,
   "metadata": {},
   "outputs": [
    {
     "name": "stdout",
     "output_type": "stream",
     "text": [
      "Sriman Rao\n",
      "Sriman.Rao@gmu.edu\n",
      "Sriman\n"
     ]
    }
   ],
   "source": [
    "class Employee:\n",
    "    amt_raise=1.5\n",
    "    def __init__(self,f_name,l_name,amt):\n",
    "        self.f_name=f_name\n",
    "        self.l_name=l_name\n",
    "        self.amt=amt\n",
    "    @property\n",
    "    def email(self):\n",
    "        return \"{}.{}@gmu.edu\".format(self.f_name,self.l_name)\n",
    "    @property#can call the below function like an attribute but cannot set it to something new\n",
    "    def fullname(self):\n",
    "        return \"{} {}\".format(self.f_name,self.l_name)\n",
    "    @fullname.setter# this helps in setting the function to something new\n",
    "    def fullname(self,name):\n",
    "        f_name,l_name=name.split(\" \")\n",
    "        self.f_name=f_name\n",
    "        self.l_name=l_name\n",
    "    @fullname.deleter\n",
    "    def fullname(self):\n",
    "        print(\"Delete Name\")\n",
    "        self.f_name=None\n",
    "        self.l_name=None\n",
    " \n",
    "\n",
    "    \n",
    "    def pay_raise(self):\n",
    "        self.amt=self.amt*self.amt_raise\n",
    "emp_1=Employee(\"Sriman\",\"Rao\",50000)\n",
    "print(emp_1.fullname)\n",
    "print(emp_1.email)\n",
    "#emp_1.fullname=\"Corey Schafer\"\n",
    "#print(emp_1.f_name)\n",
    "#print(emp_1.email)\n",
    "#del emp_1.fullname\n",
    "#emp_1=Employee(\"Sriman\",\"Rao\",50000)\n",
    "\n",
    "print(emp_1.f_name)\n",
    "\n",
    "\n"
   ]
  },
  {
   "cell_type": "code",
   "execution_count": null,
   "metadata": {
    "collapsed": true
   },
   "outputs": [],
   "source": []
  },
  {
   "cell_type": "code",
   "execution_count": null,
   "metadata": {
    "collapsed": true
   },
   "outputs": [],
   "source": []
  }
 ],
 "metadata": {
  "kernelspec": {
   "display_name": "Python 3",
   "language": "python",
   "name": "python3"
  },
  "language_info": {
   "codemirror_mode": {
    "name": "ipython",
    "version": 3
   },
   "file_extension": ".py",
   "mimetype": "text/x-python",
   "name": "python",
   "nbconvert_exporter": "python",
   "pygments_lexer": "ipython3",
   "version": "3.6.1"
  }
 },
 "nbformat": 4,
 "nbformat_minor": 2
}
