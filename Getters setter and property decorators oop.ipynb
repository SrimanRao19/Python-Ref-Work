{
 "cells": [
  {
   "cell_type": "code",
   "execution_count": 2,
   "metadata": {},
   "outputs": [
    {
     "name": "stdout",
     "output_type": "stream",
     "text": [
      "Tom\n",
      "Tom_Yadagiri@email.com\n",
      "Tom Yadagiri\n"
     ]
    }
   ],
   "source": [
    "class Employee:\n",
    "    def __init__(self,first_name,last_name,pay):\n",
    "        self.first_name=first_name \n",
    "        self.last_name=last_name\n",
    "        self.pay=pay\n",
    "    @property\n",
    "    def fullname(self):\n",
    "        return\"{} {}\".format(self.first_name,self.last_name)\n",
    "    @fullname.setter\n",
    "    def fullname(self,name):\n",
    "        first, last=name.split(' ')\n",
    "        self.first=first\n",
    "        self.last=last\n",
    "    @property\n",
    "    def email(self):\n",
    "        return\"{}_{}@email.com\".format(self.first_name,self.last_name)\n",
    "emp_1=Employee('Sriman','Yadagiri',50000)\n",
    "emp_1.first_name=\"Tom\"\n",
    "emp_1.fullname=\"SrimanRao Yadagiri\"\n",
    "print(emp_1.first_name)\n",
    "print(emp_1.email)\n",
    "print(emp_1.fullname)"
   ]
  },
  {
   "cell_type": "code",
   "execution_count": 5,
   "metadata": {},
   "outputs": [
    {
     "name": "stdout",
     "output_type": "stream",
     "text": [
      "SrimanRao\n",
      "SrimanRao_Yadagiri@email.com\n",
      "SrimanRao Yadagiri\n"
     ]
    }
   ],
   "source": [
    "class Employee:\n",
    "    def __init__(self,first_name,last_name,pay):\n",
    "        self.first_name=first_name \n",
    "        self.last_name=last_name\n",
    "        self.pay=pay\n",
    "\n",
    "    @property\n",
    "    def fullname(self):\n",
    "        return\"{} {}\".format(self.first_name,self.last_name)\n",
    "    @fullname.setter\n",
    "    def fullname(self,name):\n",
    "        first_name, last_name=name.split(' ')\n",
    "        self.first_name=first_name\n",
    "        self.last_name=last_name\n",
    "    @property\n",
    "    def email(self):\n",
    "        return\"{}_{}@email.com\".format(self.first_name,self.last_name)\n",
    "emp_1=Employee('Sriman','Yadagiri',50000)\n",
    "emp_1.first_name=\"Tom\"\n",
    "emp_1.fullname=\"SrimanRao Yadagiri\"\n",
    "print(emp_1.first_name)\n",
    "print(emp_1.email)\n",
    "print(emp_1.fullname)"
   ]
  },
  {
   "cell_type": "code",
   "execution_count": 6,
   "metadata": {},
   "outputs": [
    {
     "name": "stdout",
     "output_type": "stream",
     "text": [
      "SrimanRao Yadagiri\n",
      "SrimanRao_Yadagiri@email.com\n",
      "SrimanRao Yadagiri\n",
      "Sachin Tendulkar\n"
     ]
    }
   ],
   "source": [
    "class Employee:\n",
    "    def __init__(self,first_name,last_name,pay):\n",
    "        self.first_name=first_name \n",
    "        self.last_name=last_name\n",
    "        self.pay=pay\n",
    "    @property\n",
    "    def fullname(self):\n",
    "        return\"{} {}\".format(self.first_name,self.last_name)\n",
    "    @fullname.setter\n",
    "    def fullname(self,name):\n",
    "        first_name, last_name=name.split(' ')\n",
    "        self.first_name=first_name\n",
    "        self.last_name=last_name\n",
    "    @fullname.deleter\n",
    "    def fullname(self):\n",
    "        print(\"Delete Name\")\n",
    "        self.first=None\n",
    "        self.last=None\n",
    "    @property\n",
    "    def email(self):\n",
    "        return\"{}_{}@email.com\".format(self.first_name,self.last_name)\n",
    "emp_1=Employee('Sriman','Yadagiri',50000)\n",
    "emp_2=Employee(\"Sachin\",\"Tendulkar\",54545)\n",
    "emp_1.first_name=\"Tom\"\n",
    "emp_1.fullname=\"SrimanRao Yadagiri\"\n",
    "print(emp_1.fullname)\n",
    "print(emp_1.email)\n",
    "print(emp_1.fullname)\n",
    "print(emp_2.fullname)"
   ]
  },
  {
   "cell_type": "code",
   "execution_count": null,
   "metadata": {
    "collapsed": true
   },
   "outputs": [],
   "source": []
  }
 ],
 "metadata": {
  "kernelspec": {
   "display_name": "Python 3",
   "language": "python",
   "name": "python3"
  },
  "language_info": {
   "codemirror_mode": {
    "name": "ipython",
    "version": 3
   },
   "file_extension": ".py",
   "mimetype": "text/x-python",
   "name": "python",
   "nbconvert_exporter": "python",
   "pygments_lexer": "ipython3",
   "version": "3.6.1"
  }
 },
 "nbformat": 4,
 "nbformat_minor": 2
}
