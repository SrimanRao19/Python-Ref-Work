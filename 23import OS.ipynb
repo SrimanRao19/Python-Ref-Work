{
 "cells": [
  {
   "cell_type": "code",
   "execution_count": 1,
   "metadata": {
    "collapsed": true
   },
   "outputs": [],
   "source": [
    "import os"
   ]
  },
  {
   "cell_type": "code",
   "execution_count": 2,
   "metadata": {},
   "outputs": [
    {
     "name": "stdout",
     "output_type": "stream",
     "text": [
      "['DirEntry', 'F_OK', 'MutableMapping', 'O_APPEND', 'O_BINARY', 'O_CREAT', 'O_EXCL', 'O_NOINHERIT', 'O_RANDOM', 'O_RDONLY', 'O_RDWR', 'O_SEQUENTIAL', 'O_SHORT_LIVED', 'O_TEMPORARY', 'O_TEXT', 'O_TRUNC', 'O_WRONLY', 'P_DETACH', 'P_NOWAIT', 'P_NOWAITO', 'P_OVERLAY', 'P_WAIT', 'PathLike', 'R_OK', 'SEEK_CUR', 'SEEK_END', 'SEEK_SET', 'TMP_MAX', 'W_OK', 'X_OK', '_Environ', '__all__', '__builtins__', '__cached__', '__doc__', '__file__', '__loader__', '__name__', '__package__', '__spec__', '_execvpe', '_exists', '_exit', '_fspath', '_get_exports_list', '_putenv', '_unsetenv', '_wrap_close', 'abc', 'abort', 'access', 'altsep', 'chdir', 'chmod', 'close', 'closerange', 'cpu_count', 'curdir', 'defpath', 'device_encoding', 'devnull', 'dup', 'dup2', 'environ', 'errno', 'error', 'execl', 'execle', 'execlp', 'execlpe', 'execv', 'execve', 'execvp', 'execvpe', 'extsep', 'fdopen', 'fsdecode', 'fsencode', 'fspath', 'fstat', 'fsync', 'ftruncate', 'get_exec_path', 'get_handle_inheritable', 'get_inheritable', 'get_terminal_size', 'getcwd', 'getcwdb', 'getenv', 'getlogin', 'getpid', 'getppid', 'isatty', 'kill', 'linesep', 'link', 'listdir', 'lseek', 'lstat', 'makedirs', 'mkdir', 'name', 'open', 'pardir', 'path', 'pathsep', 'pipe', 'popen', 'putenv', 'read', 'readlink', 'remove', 'removedirs', 'rename', 'renames', 'replace', 'rmdir', 'scandir', 'sep', 'set_handle_inheritable', 'set_inheritable', 'spawnl', 'spawnle', 'spawnv', 'spawnve', 'st', 'startfile', 'stat', 'stat_float_times', 'stat_result', 'statvfs_result', 'strerror', 'supports_bytes_environ', 'supports_dir_fd', 'supports_effective_ids', 'supports_fd', 'supports_follow_symlinks', 'symlink', 'sys', 'system', 'terminal_size', 'times', 'times_result', 'truncate', 'umask', 'uname_result', 'unlink', 'urandom', 'utime', 'waitpid', 'walk', 'write']\n"
     ]
    }
   ],
   "source": [
    "print(dir(os))"
   ]
  },
  {
   "cell_type": "code",
   "execution_count": 3,
   "metadata": {},
   "outputs": [
    {
     "name": "stdout",
     "output_type": "stream",
     "text": [
      "C:\\Users\\Sriman Rao\n"
     ]
    }
   ],
   "source": [
    "print(os.getcwd())"
   ]
  },
  {
   "cell_type": "code",
   "execution_count": 8,
   "metadata": {},
   "outputs": [
    {
     "ename": "SyntaxError",
     "evalue": "EOL while scanning string literal (<ipython-input-8-61fb9fab28e0>, line 1)",
     "output_type": "error",
     "traceback": [
      "\u001b[1;36m  File \u001b[1;32m\"<ipython-input-8-61fb9fab28e0>\"\u001b[1;36m, line \u001b[1;32m1\u001b[0m\n\u001b[1;33m    os.chdir('\\C:\\Users\\')\u001b[0m\n\u001b[1;37m                          ^\u001b[0m\n\u001b[1;31mSyntaxError\u001b[0m\u001b[1;31m:\u001b[0m EOL while scanning string literal\n"
     ]
    }
   ],
   "source": [
    "os.chdir('\\C:\\Users\\')"
   ]
  },
  {
   "cell_type": "code",
   "execution_count": 9,
   "metadata": {},
   "outputs": [
    {
     "name": "stdout",
     "output_type": "stream",
     "text": [
      "['.android', '.AndroidStudio2.2', '.cache', '.cisco', '.conda', '.eclipse', '.idlerc', '.InstallAnywhere', '.ipynb_checkpoints', '.ipython', '.jupyter', '.m2', '.matplotlib', '.nbi', '.oracle_jre_usage', '.p2', '.spyder-py3', '.tooling', '18Scope.ipynb', '19SlicingLists.ipynb', '1String.ipynb', '20Comprehensions.ipynb', '21 Sorting Lists and other objects in Python.ipynb', '22StringFormatting.ipynb', '23import OS.ipynb', '2Integers.ipynb', '3D Objects', '3SetsTuplesLists.ipynb', '4 Dictionaries, Key Value Pairs.ipynb', '5 Conditionals.ipynb', '6 Functions.ipynb', '9.1 getting the module here.ipynb', 'Anaconda3', 'AppData', 'Application Data', 'assesment functions.ipynb', 'Booleans.ipynb', 'Class methods and static method.ipynb', 'Class Variables.ipynb', 'Comprehensions.ipynb', 'Contacts', 'Cookies', 'Creative Cloud Files', 'Deck of Cards Imp.ipynb', 'Decorators Corey.ipynb', 'Decorators udemy.ipynb', 'Desktop', 'Dictionaries.ipynb', 'Documents', 'Downloads', 'eclipse', 'eclipse-workspace', 'Errors and Exception Handling.ipynb', 'Exception handling homework.ipynb', 'Favorites', 'File Objects.ipynb', 'files.ipynb', 'for loops.ipynb', 'Functions.ipynb', 'Generators.ipynb', 'Getters setter and property decorators oop.ipynb', 'Hello.jade', 'if elif else.ipynb', 'Index.html', 'Inheritance.ipynb', 'IntelGraphicsProfiles', 'Lambda.ipynb', 'Links', 'Lists.ipynb', 'Local Settings', 'mag-gyro.csv', 'Methods.ipynb', 'MicrosoftEdgeBackups', 'Modules and Packages.ipynb', 'Music', 'My Documents', 'my_module.ipynb', 'NetHood', 'New folder', 'new.txt', 'NTUSER.DAT', 'ntuser.dat.LOG1', 'ntuser.dat.LOG2', 'NTUSER.DAT{6b1c5166-df5e-11e7-9473-20474726fd31}.TM.blf', 'NTUSER.DAT{6b1c5166-df5e-11e7-9473-20474726fd31}.TMContainer00000000000000000001.regtrans-ms', 'NTUSER.DAT{6b1c5166-df5e-11e7-9473-20474726fd31}.TMContainer00000000000000000002.regtrans-ms', 'ntuser.ini', 'Numbers.ipynb', 'Objects and methods.ipynb', 'OneDrive', 'Pictures', 'PrintHood', 'py.txt', 'Range.ipynb', 'Recent', 'Saved Games', 'Scope.ipynb', 'Searches', 'SendTo', 'shopizer-2.0.5', 'Special Methods.ipynb', 'Start Menu', 'Strings.ipynb', 'Templates', 'testfile', 'TicTacToe.ipynb', 'Tracing', 'TTT.ipynb', 'Tuples.ipynb', 'Untitled.ipynb', 'Untitled1.ipynb', 'Untitled10.ipynb', 'Untitled2.ipynb', 'Untitled3.ipynb', 'Untitled4.ipynb', 'Untitled5.ipynb', 'Untitled6.ipynb', 'Untitled7.ipynb', 'Untitled8.ipynb', 'Untitled9.ipynb', 'Videos', 'walk-pocket.csv', 'walk-shoe.csv', 'Wampserver64.lnk', 'while loops.ipynb', 'workspace']\n"
     ]
    }
   ],
   "source": [
    "print(os.listdir())"
   ]
  },
  {
   "cell_type": "code",
   "execution_count": 10,
   "metadata": {
    "collapsed": true
   },
   "outputs": [],
   "source": [
    "os.makedirs(\"Os-DEemo-2\")"
   ]
  },
  {
   "cell_type": "code",
   "execution_count": 11,
   "metadata": {
    "collapsed": true
   },
   "outputs": [],
   "source": [
    "os.rmdir(\"Os-DEemo-2\")"
   ]
  },
  {
   "cell_type": "code",
   "execution_count": null,
   "metadata": {
    "collapsed": true
   },
   "outputs": [],
   "source": []
  }
 ],
 "metadata": {
  "kernelspec": {
   "display_name": "Python 3",
   "language": "python",
   "name": "python3"
  },
  "language_info": {
   "codemirror_mode": {
    "name": "ipython",
    "version": 3
   },
   "file_extension": ".py",
   "mimetype": "text/x-python",
   "name": "python",
   "nbconvert_exporter": "python",
   "pygments_lexer": "ipython3",
   "version": "3.6.1"
  }
 },
 "nbformat": 4,
 "nbformat_minor": 2
}
