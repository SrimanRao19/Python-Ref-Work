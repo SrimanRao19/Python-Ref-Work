{
 "cells": [
  {
   "cell_type": "code",
   "execution_count": 11,
   "metadata": {},
   "outputs": [
    {
     "name": "stdout",
     "output_type": "stream",
     "text": [
      "This ran before display_info\n",
      "This function ran with the parameter Sriman 23\n",
      "This ran after display_info \n",
      "\n"
     ]
    }
   ],
   "source": [
    "def decorator_func(pass_func):\n",
    "    def wrapper_func(*args,**kwargs):\n",
    "        print(\"This ran before\", pass_func.__name__)\n",
    "        result=pass_func(*args,**kwargs)\n",
    "        print(\"This ran after\",pass_func.__name__,\"\\n\")\n",
    "        return result\n",
    "    return wrapper_func\n",
    "@decorator_func\n",
    "def display_info(name,age):\n",
    "    print(\"This function ran with the parameter {} {}\".format(name,age))\n",
    "display_info(\"Sriman\",23)"
   ]
  },
  {
   "cell_type": "code",
   "execution_count": 1,
   "metadata": {},
   "outputs": [
    {
     "name": "stdout",
     "output_type": "stream",
     "text": [
      "Testing: This ran before display_info\n",
      "This function ran with the parameter Sriman 23\n",
      "Testing: This ran after display_info \n",
      "\n"
     ]
    }
   ],
   "source": [
    "def prefix_decorator(prefix): \n",
    "    def decorator_func(pass_func):\n",
    "        def wrapper_func(*args,**kwargs):\n",
    "            print(prefix,\"This ran before\", pass_func.__name__)\n",
    "            result=pass_func(*args,**kwargs)\n",
    "            print(prefix,\"This ran after\",pass_func.__name__,\"\\n\")\n",
    "            return result\n",
    "        return wrapper_func\n",
    "    return decorator_func\n",
    "@prefix_decorator(\"Testing:\")\n",
    "def display_info(name,age):\n",
    "    print(\"This function ran with the parameter {} {}\".format(name,age))\n",
    "display_info(\"Sriman\",23)"
   ]
  },
  {
   "cell_type": "code",
   "execution_count": null,
   "metadata": {
    "collapsed": true
   },
   "outputs": [],
   "source": []
  }
 ],
 "metadata": {
  "kernelspec": {
   "display_name": "Python 3",
   "language": "python",
   "name": "python3"
  },
  "language_info": {
   "codemirror_mode": {
    "name": "ipython",
    "version": 3
   },
   "file_extension": ".py",
   "mimetype": "text/x-python",
   "name": "python",
   "nbconvert_exporter": "python",
   "pygments_lexer": "ipython3",
   "version": "3.6.1"
  }
 },
 "nbformat": 4,
 "nbformat_minor": 2
}
