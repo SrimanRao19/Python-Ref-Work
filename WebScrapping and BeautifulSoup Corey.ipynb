{
 "cells": [
  {
   "cell_type": "code",
   "execution_count": null,
   "metadata": {
    "collapsed": true
   },
   "outputs": [],
   "source": [
    "<!doctype html>\n",
    "<html class=\"no-js\" lang=\"\">\n",
    "    <head>\n",
    "        <title>Test - A Sample Website</title>\n",
    "        <meta charset=\"utf-8\">\n",
    "        <link rel=\"stylesheet\" href=\"css/normalize.css\">\n",
    "        <link rel=\"stylesheet\" href=\"css/main.css\">\n",
    "    </head>\n",
    "    <body>\n",
    "        <h1 id='site_title'>Test Website</h1>\n",
    "        <hr></hr>\n",
    "        <div class=\"article\">\n",
    "            <h2><a href=\"article_1.html\">Article 1 Headline</a></h2>\n",
    "            <p>This is a summary of article 1</p>\n",
    "        </div>\n",
    "        <hr></hr>\n",
    "        <div class=\"article\">\n",
    "            <h2><a href=\"article_2.html\">Article 2 Headline</a></h2>\n",
    "            <p>This is a summary of article 2</p>\n",
    "        </div>\n",
    "        <hr></hr>\n",
    "\n",
    "        <div class='footer'>\n",
    "            <p>Footer Information</p>\n",
    "        </div>\n",
    "\n",
    "        <script src=\"js/vendor/modernizr-3.5.0.min.js\"></script>\n",
    "        <script src=\"js/plugins.js\"></script>\n",
    "        <script src=\"js/main.js\"></script>\n",
    "    </body>\n",
    "</html>"
   ]
  }
 ],
 "metadata": {
  "kernelspec": {
   "display_name": "Python 3",
   "language": "python",
   "name": "python3"
  },
  "language_info": {
   "codemirror_mode": {
    "name": "ipython",
    "version": 3
   },
   "file_extension": ".py",
   "mimetype": "text/x-python",
   "name": "python",
   "nbconvert_exporter": "python",
   "pygments_lexer": "ipython3",
   "version": "3.6.1"
  }
 },
 "nbformat": 4,
 "nbformat_minor": 2
}
