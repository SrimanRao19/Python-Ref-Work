{
 "cells": [
  {
   "cell_type": "code",
   "execution_count": 1,
   "metadata": {},
   "outputs": [
    {
     "name": "stdout",
     "output_type": "stream",
     "text": [
      "Hi\n"
     ]
    }
   ],
   "source": [
    "def outer_function():\n",
    "    message=\"Hi\"\n",
    "    def inner_function():\n",
    "        print(message)\n",
    "    return inner_function()\n",
    "outer_function()"
   ]
  },
  {
   "cell_type": "code",
   "execution_count": 2,
   "metadata": {},
   "outputs": [
    {
     "data": {
      "text/plain": [
       "<function __main__.outer_function.<locals>.inner_function>"
      ]
     },
     "execution_count": 2,
     "metadata": {},
     "output_type": "execute_result"
    }
   ],
   "source": [
    "def outer_function():\n",
    "    message=\"Hi\"\n",
    "    def inner_function():\n",
    "        print(message)\n",
    "    return inner_function\n",
    "outer_function()"
   ]
  },
  {
   "cell_type": "code",
   "execution_count": 5,
   "metadata": {},
   "outputs": [
    {
     "name": "stdout",
     "output_type": "stream",
     "text": [
      "Hi\n",
      "Bye\n"
     ]
    }
   ],
   "source": [
    "def outer_function(msg):\n",
    "    def inner_function():\n",
    "        print(msg)\n",
    "    return inner_function\n",
    "hi_func=outer_function(\"Hi\")\n",
    "bye_func=outer_function(\"Bye\")\n",
    "hi_func()\n",
    "bye_func()"
   ]
  },
  {
   "cell_type": "code",
   "execution_count": 2,
   "metadata": {},
   "outputs": [
    {
     "name": "stdout",
     "output_type": "stream",
     "text": [
      "Wrapper executed this before display\n",
      "Display function ran\n"
     ]
    }
   ],
   "source": [
    "def decorator_function(original_function):\n",
    "    def wrapper_function():\n",
    "        print(\"Wrapper executed this before {}\".format(original_function.__name__))\n",
    "        return original_function()\n",
    "    return wrapper_function\n",
    "\n",
    "def display():\n",
    "    print(\"Display function ran\")\n",
    "display=decorator_function(display)\n",
    "display()\n"
   ]
  },
  {
   "cell_type": "code",
   "execution_count": 10,
   "metadata": {},
   "outputs": [
    {
     "name": "stdout",
     "output_type": "stream",
     "text": [
      "Wrapper executed this before display\n",
      "Display function ran\n"
     ]
    }
   ],
   "source": [
    "def decorator_function(original_function):\n",
    "    def wrapper_function():\n",
    "        print(\"Wrapper executed this before {}\".format(original_function.__name__))\n",
    "        return original_function()\n",
    "    return wrapper_function\n",
    "@decorator_function\n",
    "def display():\n",
    "    print(\"Display function ran\")\n",
    "display()\n",
    "\n"
   ]
  },
  {
   "cell_type": "code",
   "execution_count": 11,
   "metadata": {},
   "outputs": [
    {
     "name": "stdout",
     "output_type": "stream",
     "text": [
      "Wrapper executed this before display_info\n",
      "This function is printed with the arguments Sriman 23\n",
      "Wrapper executed this before display\n",
      "Display function ran\n"
     ]
    }
   ],
   "source": [
    "def decorator_function(original_function):\n",
    "    def wrapper_function(*args,**kwargs):\n",
    "        print(\"Wrapper executed this before {}\".format(original_function.__name__))\n",
    "        return original_function(*args,**kwargs)\n",
    "    return wrapper_function\n",
    "@decorator_function\n",
    "def display():\n",
    "    print(\"Display function ran\")\n",
    "@decorator_function\n",
    "def display_info(name,age):\n",
    "    print(\"This function is printed with the arguments {} {}\".format(name,age))\n",
    "display_info(\"Sriman\",23) \n",
    "display()"
   ]
  },
  {
   "cell_type": "code",
   "execution_count": 16,
   "metadata": {},
   "outputs": [
    {
     "ename": "TypeError",
     "evalue": "object() takes no parameters",
     "output_type": "error",
     "traceback": [
      "\u001b[1;31m---------------------------------------------------------------------------\u001b[0m",
      "\u001b[1;31mTypeError\u001b[0m                                 Traceback (most recent call last)",
      "\u001b[1;32m<ipython-input-16-f48d25dc3e0a>\u001b[0m in \u001b[0;36m<module>\u001b[1;34m()\u001b[0m\n\u001b[0;32m     11\u001b[0m         \u001b[0mprint\u001b[0m\u001b[1;33m(\u001b[0m\u001b[1;34m\"call method executed this before {}\"\u001b[0m\u001b[1;33m.\u001b[0m\u001b[0mformat\u001b[0m\u001b[1;33m(\u001b[0m\u001b[0mself\u001b[0m\u001b[1;33m.\u001b[0m\u001b[0moriginal_function\u001b[0m\u001b[1;33m.\u001b[0m\u001b[0m__name_\u001b[0m\u001b[1;33m)\u001b[0m\u001b[1;33m)\u001b[0m\u001b[1;33m\u001b[0m\u001b[0m\n\u001b[0;32m     12\u001b[0m         \u001b[0mself\u001b[0m\u001b[1;33m.\u001b[0m\u001b[0moriginal_function\u001b[0m\u001b[1;33m(\u001b[0m\u001b[1;33m*\u001b[0m\u001b[0margs\u001b[0m\u001b[1;33m,\u001b[0m\u001b[1;33m**\u001b[0m\u001b[0mkwargs\u001b[0m\u001b[1;33m)\u001b[0m\u001b[1;33m\u001b[0m\u001b[0m\n\u001b[1;32m---> 13\u001b[1;33m \u001b[1;33m@\u001b[0m\u001b[0mdecorator_class\u001b[0m\u001b[1;33m\u001b[0m\u001b[0m\n\u001b[0m\u001b[0;32m     14\u001b[0m \u001b[1;32mdef\u001b[0m \u001b[0mdisplay\u001b[0m\u001b[1;33m(\u001b[0m\u001b[1;33m)\u001b[0m\u001b[1;33m:\u001b[0m\u001b[1;33m\u001b[0m\u001b[0m\n\u001b[0;32m     15\u001b[0m     \u001b[0mprint\u001b[0m\u001b[1;33m(\u001b[0m\u001b[1;34m\"Display function ran\"\u001b[0m\u001b[1;33m)\u001b[0m\u001b[1;33m\u001b[0m\u001b[0m\n",
      "\u001b[1;31mTypeError\u001b[0m: object() takes no parameters"
     ]
    }
   ],
   "source": [
    "#classes as decorators\n",
    "#def decorator_function(original_function):\n",
    "    #def wrapper_function(*args,**kwargs):\n",
    "   #     print(\"Wrapper executed this before {}\".format(original_function.__name__))\n",
    "  #      return original_function(*args,**kwargs)\n",
    " #   return wrapper_function\n",
    "class decorator_class():\n",
    "    def __init_(self,origial_function):\n",
    "        self.original_function=original_function\n",
    "    def __call__(self,*args,**kwargs):\n",
    "        print(\"call method executed this before {}\".format(self.original_function.__name_))\n",
    "        self.original_function(*args,**kwargs)\n",
    "@decorator_class\n",
    "def display():\n",
    "    print(\"Display function ran\")\n",
    "@decorator_class\n",
    "def display_info(name,age):\n",
    "    print(\"This function is printed with the arguments {} {}\".format(name,age))\n",
    "display_info(\"Sriman\",23) \n",
    "display()"
   ]
  },
  {
   "cell_type": "code",
   "execution_count": 15,
   "metadata": {},
   "outputs": [
    {
     "name": "stdout",
     "output_type": "stream",
     "text": [
      "Wrapper executed this before display_info\n",
      "This function is printed with the arguments Sriman 23\n",
      "Wrapper executed this before display\n",
      "Display function ran\n",
      "wrapper_function\n"
     ]
    }
   ],
   "source": [
    "def decorator_function(original_function):\n",
    "    def wrapper_function(*args,**kwargs):\n",
    "        print(\"Wrapper executed this before {}\".format(original_function.__name__))\n",
    "        return original_function(*args,**kwargs)\n",
    "    return wrapper_function\n",
    "@decorator_function\n",
    "def display():\n",
    "    print(\"Display function ran\")\n",
    "@decorator_function\n",
    "def display_info(name,age):\n",
    "    print(\"This function is printed with the arguments {} {}\".format(name,age))\n",
    "display_info(\"Sriman\",23) \n",
    "display()\n",
    "print(display_info.__name__)"
   ]
  },
  {
   "cell_type": "code",
   "execution_count": 2,
   "metadata": {},
   "outputs": [
    {
     "name": "stdout",
     "output_type": "stream",
     "text": [
      "display_info ran with arguments (Sriman,23)\n",
      "display_info ran in: 1.000065803527832 sec\n"
     ]
    }
   ],
   "source": [
    "def my_timer(orig_func):\n",
    "    import time\n",
    "    def wrapper(*args,**kwargs):\n",
    "        t1=time.time()\n",
    "        result=orig_func(*args,**kwargs)\n",
    "        t2=time.time()-t1\n",
    "        print(\"{} ran in: {} sec\".format(orig_func.__name__, t2))\n",
    "        return result\n",
    "    return wrapper\n",
    "import time\n",
    "@my_timer\n",
    "def display_info(name,age):\n",
    "    time.sleep(1)\n",
    "    print(\"display_info ran with arguments ({},{})\".format(name,age))\n",
    "display_info(\"Sriman\",23)    "
   ]
  },
  {
   "cell_type": "code",
   "execution_count": 3,
   "metadata": {},
   "outputs": [
    {
     "name": "stdout",
     "output_type": "stream",
     "text": [
      "display_info ran with arguments (Sriman,23)\n",
      "display_info ran in: 1.001039743423462 sec\n",
      "wrapper\n"
     ]
    },
    {
     "ename": "NameError",
     "evalue": "name 'orig_func' is not defined",
     "output_type": "error",
     "traceback": [
      "\u001b[1;31m---------------------------------------------------------------------------\u001b[0m",
      "\u001b[1;31mNameError\u001b[0m                                 Traceback (most recent call last)",
      "\u001b[1;32m<ipython-input-3-ef667629a395>\u001b[0m in \u001b[0;36m<module>\u001b[1;34m()\u001b[0m\n\u001b[0;32m     16\u001b[0m \u001b[0mdisplay_info\u001b[0m\u001b[1;33m(\u001b[0m\u001b[1;34m\"Sriman\"\u001b[0m\u001b[1;33m,\u001b[0m\u001b[1;36m23\u001b[0m\u001b[1;33m)\u001b[0m\u001b[1;33m\u001b[0m\u001b[0m\n\u001b[0;32m     17\u001b[0m \u001b[0mprint\u001b[0m\u001b[1;33m(\u001b[0m\u001b[0mdisplay_info\u001b[0m\u001b[1;33m.\u001b[0m\u001b[0m__name__\u001b[0m\u001b[1;33m)\u001b[0m\u001b[1;33m\u001b[0m\u001b[0m\n\u001b[1;32m---> 18\u001b[1;33m \u001b[0mprint\u001b[0m\u001b[1;33m(\u001b[0m\u001b[0morig_func\u001b[0m\u001b[1;33m.\u001b[0m\u001b[0m__name__\u001b[0m\u001b[1;33m)\u001b[0m\u001b[1;33m\u001b[0m\u001b[0m\n\u001b[0m",
      "\u001b[1;31mNameError\u001b[0m: name 'orig_func' is not defined"
     ]
    }
   ],
   "source": [
    "def my_timer(orig_func):\n",
    "    import time\n",
    "    def wrapper(*args,**kwargs):\n",
    "        t1=time.time()\n",
    "        result=orig_func(*args,**kwargs)\n",
    "        t2=time.time()-t1\n",
    "        print(\"{} ran in: {} sec\".format(orig_func.__name__, t2))\n",
    "        return result\n",
    "    return wrapper\n",
    "import time\n",
    "@my_timer\n",
    "def display_info(name,age):\n",
    "    time.sleep(1)\n",
    "    print(\"display_info ran with arguments ({},{})\".format(name,age))\n",
    "\n",
    "display_info(\"Sriman\",23)   \n",
    "print(display_info.__name__)\n",
    "print(orig_func.__name__)\n"
   ]
  },
  {
   "cell_type": "code",
   "execution_count": null,
   "metadata": {
    "collapsed": true
   },
   "outputs": [],
   "source": []
  },
  {
   "cell_type": "code",
   "execution_count": null,
   "metadata": {
    "collapsed": true
   },
   "outputs": [],
   "source": []
  }
 ],
 "metadata": {
  "kernelspec": {
   "display_name": "Python 3",
   "language": "python",
   "name": "python3"
  },
  "language_info": {
   "codemirror_mode": {
    "name": "ipython",
    "version": 3
   },
   "file_extension": ".py",
   "mimetype": "text/x-python",
   "name": "python",
   "nbconvert_exporter": "python",
   "pygments_lexer": "ipython3",
   "version": "3.6.1"
  }
 },
 "nbformat": 4,
 "nbformat_minor": 2
}
